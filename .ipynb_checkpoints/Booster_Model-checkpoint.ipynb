{
 "cells": [
  {
   "cell_type": "code",
   "execution_count": 1,
   "metadata": {},
   "outputs": [],
   "source": [
    "import numpy as np\n",
    "import pandas as pd\n",
    "import seaborn as sns\n",
    "import matplotlib.pyplot as plt"
   ]
  },
  {
   "cell_type": "code",
   "execution_count": 2,
   "metadata": {},
   "outputs": [],
   "source": [
    "from sklearn.model_selection import GridSearchCV, train_test_split\n",
    "from sklearn.metrics import f1_score, accuracy_score\n",
    "from sklearn.pipeline import Pipeline\n",
    "from sklearn.base import BaseEstimator, TransformerMixin\n",
    "from sklearn.decomposition import PCA\n",
    "from sklearn.preprocessing import StandardScaler"
   ]
  },
  {
   "cell_type": "code",
   "execution_count": 3,
   "metadata": {},
   "outputs": [],
   "source": [
    "import xgboost as xgb\n",
    "from xgboost import plot_importance"
   ]
  },
  {
   "cell_type": "code",
   "execution_count": 7,
   "metadata": {},
   "outputs": [],
   "source": [
    "train_data = pd.read_csv(\"train_values.csv\", delimiter=\",\")\n",
    "train_label = pd.read_csv(\"train_labels.csv\", delimiter=\",\")\n",
    "test_data = pd.read_csv(\"test_values.csv\", delimiter=\",\")"
   ]
  },
  {
   "cell_type": "code",
   "execution_count": 8,
   "metadata": {},
   "outputs": [],
   "source": [
    "class Encoder(BaseEstimator, TransformerMixin):\n",
    "    def __init__(self):\n",
    "        pass\n",
    "    def fit(self,X, y=None):\n",
    "        return self\n",
    "    def transform(self, X):\n",
    "        Xt = X.copy()\n",
    "        encoded = pd.get_dummies(Xt)\n",
    "        return encoded"
   ]
  },
  {
   "cell_type": "code",
   "execution_count": 15,
   "metadata": {},
   "outputs": [],
   "source": [
    "class ColumnDrop(BaseEstimator, TransformerMixin):\n",
    "    def __init__(self, items):\n",
    "        self.items = items\n",
    "    def fit(self, X, y=None):\n",
    "        return self\n",
    "    def transform(self, X):\n",
    "        Xt = X.copy()\n",
    "        dropped_data = Xt.drop(self.items, axis=1)\n",
    "        return dropped_data"
   ]
  },
  {
   "cell_type": "code",
   "execution_count": 17,
   "metadata": {},
   "outputs": [],
   "source": [
    "drop_features = [\n",
    "'building_id', 'has_secondary_use_gov_office', 'has_secondary_use_use_police', \n",
    "'has_secondary_use_institution','has_secondary_use_health_post',\n",
    "'has_secondary_use_school','has_secondary_use_industry'\n",
    "]"
   ]
  },
  {
   "cell_type": "code",
   "execution_count": 18,
   "metadata": {},
   "outputs": [],
   "source": [
    "encoder = Encoder()\n",
    "column_drop = ColumnDrop(drop_features)\n",
    "\n",
    "train_data = column_drop.transform(train_data)\n",
    "test_data  = column_drop.transform(test_data)\n",
    "\n",
    "train_data = encoder.transform(train_data)\n",
    "test_data  = encoder.transform(test_data)"
   ]
  },
  {
   "cell_type": "code",
   "execution_count": 19,
   "metadata": {},
   "outputs": [],
   "source": [
    "y_fulltrain_labels = train_label['damage_grade']\n",
    "y_train_labels = y_train['damage_grade']\n",
    "y_valid_labels = y_valid['damage_grade']"
   ]
  },
  {
   "cell_type": "code",
   "execution_count": 20,
   "metadata": {},
   "outputs": [],
   "source": [
    "dmatrix_train = xgb.DMatrix(X_train, label = y_train_labels)\n",
    "dmatrix_valid = xgb.DMatrix(X_valid, label = y_valid_labels)"
   ]
  },
  {
   "cell_type": "code",
   "execution_count": 29,
   "metadata": {},
   "outputs": [
    {
     "data": {
      "text/plain": [
       "array([2., 2., 3., ..., 2., 3., 2.], dtype=float32)"
      ]
     },
     "execution_count": 29,
     "metadata": {},
     "output_type": "execute_result"
    }
   ],
   "source": [
    "dmatrix_train.get_label()"
   ]
  },
  {
   "cell_type": "code",
   "execution_count": 41,
   "metadata": {},
   "outputs": [],
   "source": [
    "def calc_f1(y_pred, dtrain):\n",
    "    y_true = dtrain.get_label()\n",
    "    score = f1_score(y_true, y_pred, average='micro')\n",
    "    return ('f1_micro', score)"
   ]
  },
  {
   "cell_type": "code",
   "execution_count": 55,
   "metadata": {},
   "outputs": [],
   "source": [
    "model = xgb.XGBClassifier(\n",
    "                          objective = 'multi:softmax',\n",
    "                          learning_rate = 0.3, \n",
    "                          #n_estimators = 200, \n",
    "                          max_depth = 10, \n",
    "                          n_jobs=-1, \n",
    "                          scale_pos_weight=1,\n",
    "                          subsample = 1,\n",
    "                          min_child_weight=3,\n",
    "                          num_class = 3)"
   ]
  },
  {
   "cell_type": "code",
   "execution_count": 56,
   "metadata": {},
   "outputs": [],
   "source": [
    "xgb_param = model.get_xgb_params()"
   ]
  },
  {
   "cell_type": "code",
   "execution_count": 59,
   "metadata": {},
   "outputs": [],
   "source": [
    "cv_results = xgb.cv(\n",
    "                    dtrain=dmatrix_train, \n",
    "                    params=xgb_param, \n",
    "                    nfold=3,\n",
    "                    num_boost_round=200, \n",
    "                    early_stopping_rounds=10,\n",
    "                    feval=calc_f1,\n",
    "                    as_pandas=True, \n",
    "                    seed=123)"
   ]
  },
  {
   "cell_type": "code",
   "execution_count": 60,
   "metadata": {},
   "outputs": [
    {
     "data": {
      "text/html": [
       "<div>\n",
       "<style scoped>\n",
       "    .dataframe tbody tr th:only-of-type {\n",
       "        vertical-align: middle;\n",
       "    }\n",
       "\n",
       "    .dataframe tbody tr th {\n",
       "        vertical-align: top;\n",
       "    }\n",
       "\n",
       "    .dataframe thead th {\n",
       "        text-align: right;\n",
       "    }\n",
       "</style>\n",
       "<table border=\"1\" class=\"dataframe\">\n",
       "  <thead>\n",
       "    <tr style=\"text-align: right;\">\n",
       "      <th></th>\n",
       "      <th>train-f1_micro-mean</th>\n",
       "      <th>train-f1_micro-std</th>\n",
       "      <th>train-merror-mean</th>\n",
       "      <th>train-merror-std</th>\n",
       "      <th>test-f1_micro-mean</th>\n",
       "      <th>test-f1_micro-std</th>\n",
       "      <th>test-merror-mean</th>\n",
       "      <th>test-merror-std</th>\n",
       "    </tr>\n",
       "  </thead>\n",
       "  <tbody>\n",
       "    <tr>\n",
       "      <th>0</th>\n",
       "      <td>0.702713</td>\n",
       "      <td>0.000995</td>\n",
       "      <td>0.297287</td>\n",
       "      <td>0.000995</td>\n",
       "      <td>0.689553</td>\n",
       "      <td>0.001551</td>\n",
       "      <td>0.310447</td>\n",
       "      <td>0.001551</td>\n",
       "    </tr>\n",
       "    <tr>\n",
       "      <th>1</th>\n",
       "      <td>0.708941</td>\n",
       "      <td>0.000458</td>\n",
       "      <td>0.291059</td>\n",
       "      <td>0.000458</td>\n",
       "      <td>0.694656</td>\n",
       "      <td>0.002233</td>\n",
       "      <td>0.305344</td>\n",
       "      <td>0.002233</td>\n",
       "    </tr>\n",
       "    <tr>\n",
       "      <th>2</th>\n",
       "      <td>0.714171</td>\n",
       "      <td>0.000753</td>\n",
       "      <td>0.285829</td>\n",
       "      <td>0.000753</td>\n",
       "      <td>0.698028</td>\n",
       "      <td>0.001093</td>\n",
       "      <td>0.301972</td>\n",
       "      <td>0.001093</td>\n",
       "    </tr>\n",
       "    <tr>\n",
       "      <th>3</th>\n",
       "      <td>0.717251</td>\n",
       "      <td>0.001378</td>\n",
       "      <td>0.282749</td>\n",
       "      <td>0.001378</td>\n",
       "      <td>0.700019</td>\n",
       "      <td>0.000997</td>\n",
       "      <td>0.299981</td>\n",
       "      <td>0.000997</td>\n",
       "    </tr>\n",
       "    <tr>\n",
       "      <th>4</th>\n",
       "      <td>0.721470</td>\n",
       "      <td>0.004351</td>\n",
       "      <td>0.278530</td>\n",
       "      <td>0.004351</td>\n",
       "      <td>0.702475</td>\n",
       "      <td>0.001303</td>\n",
       "      <td>0.297525</td>\n",
       "      <td>0.001303</td>\n",
       "    </tr>\n",
       "  </tbody>\n",
       "</table>\n",
       "</div>"
      ],
      "text/plain": [
       "   train-f1_micro-mean  train-f1_micro-std  train-merror-mean  \\\n",
       "0             0.702713            0.000995           0.297287   \n",
       "1             0.708941            0.000458           0.291059   \n",
       "2             0.714171            0.000753           0.285829   \n",
       "3             0.717251            0.001378           0.282749   \n",
       "4             0.721470            0.004351           0.278530   \n",
       "\n",
       "   train-merror-std  test-f1_micro-mean  test-f1_micro-std  test-merror-mean  \\\n",
       "0          0.000995            0.689553           0.001551          0.310447   \n",
       "1          0.000458            0.694656           0.002233          0.305344   \n",
       "2          0.000753            0.698028           0.001093          0.301972   \n",
       "3          0.001378            0.700019           0.000997          0.299981   \n",
       "4          0.004351            0.702475           0.001303          0.297525   \n",
       "\n",
       "   test-merror-std  \n",
       "0         0.001551  \n",
       "1         0.002233  \n",
       "2         0.001093  \n",
       "3         0.000997  \n",
       "4         0.001303  "
      ]
     },
     "execution_count": 60,
     "metadata": {},
     "output_type": "execute_result"
    }
   ],
   "source": [
    "cv_results.head()"
   ]
  },
  {
   "cell_type": "code",
   "execution_count": 62,
   "metadata": {},
   "outputs": [],
   "source": [
    "xgb.train?"
   ]
  },
  {
   "cell_type": "code",
   "execution_count": 68,
   "metadata": {},
   "outputs": [],
   "source": [
    "xgb_clf = xgb.train(\n",
    "                    dtrain=dmatrix_train, \n",
    "                    params=xgb_param, \n",
    "                    num_boost_round=200)"
   ]
  },
  {
   "cell_type": "code",
   "execution_count": 76,
   "metadata": {},
   "outputs": [
    {
     "data": {
      "text/plain": [
       "(52121,)"
      ]
     },
     "execution_count": 76,
     "metadata": {},
     "output_type": "execute_result"
    }
   ],
   "source": [
    "preds = xgb_clf.predict(dmatrix_valid)\n",
    "preds.shape"
   ]
  },
  {
   "cell_type": "code",
   "execution_count": 77,
   "metadata": {},
   "outputs": [
    {
     "data": {
      "text/plain": [
       "('f1_micro', 0.7393564973810939)"
      ]
     },
     "execution_count": 77,
     "metadata": {},
     "output_type": "execute_result"
    }
   ],
   "source": [
    "calc_f1(preds, dmatrix_valid)"
   ]
  },
  {
   "cell_type": "code",
   "execution_count": null,
   "metadata": {},
   "outputs": [],
   "source": []
  }
 ],
 "metadata": {
  "kernelspec": {
   "display_name": "Python 3",
   "language": "python",
   "name": "python3"
  },
  "language_info": {
   "codemirror_mode": {
    "name": "ipython",
    "version": 3
   },
   "file_extension": ".py",
   "mimetype": "text/x-python",
   "name": "python",
   "nbconvert_exporter": "python",
   "pygments_lexer": "ipython3",
   "version": "3.7.6"
  }
 },
 "nbformat": 4,
 "nbformat_minor": 4
}
