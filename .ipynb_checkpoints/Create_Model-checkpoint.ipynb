{
 "cells": [
  {
   "cell_type": "code",
   "execution_count": 1,
   "metadata": {},
   "outputs": [],
   "source": [
    "import numpy as np\n",
    "import pandas as pd\n",
    "import seaborn as sns\n",
    "import matplotlib.pyplot as plt"
   ]
  },
  {
   "cell_type": "code",
   "execution_count": 2,
   "metadata": {},
   "outputs": [],
   "source": [
    "from sklearn.model_selection import GridSearchCV, train_test_split\n",
    "from sklearn.metrics import f1_score\n",
    "from sklearn.pipeline import Pipeline\n",
    "from sklearn.base import BaseEstimator, TransformerMixin\n",
    "#from sklearn.decomposition import PCA\n",
    "from sklearn.preprocessing import StandardScaler\n",
    "#from sklearn.feature_selection import RFE\n",
    "#from sklearn.svm import SVC\n",
    "#from sklearn.multiclass import OneVsRestClassifier\n",
    "#from sklearn.ensemble import BaggingClassifier"
   ]
  },
  {
   "cell_type": "code",
   "execution_count": 3,
   "metadata": {},
   "outputs": [],
   "source": [
    "import xgboost as xgb\n",
    "from xgboost import plot_importance"
   ]
  },
  {
   "cell_type": "code",
   "execution_count": 4,
   "metadata": {},
   "outputs": [],
   "source": [
    "train_data = pd.read_csv(\"train_values.csv\", delimiter=\",\")\n",
    "train_label = pd.read_csv(\"train_labels.csv\", delimiter=\",\")"
   ]
  },
  {
   "cell_type": "code",
   "execution_count": 5,
   "metadata": {},
   "outputs": [
    {
     "data": {
      "text/plain": [
       "(260601, 39)"
      ]
     },
     "execution_count": 5,
     "metadata": {},
     "output_type": "execute_result"
    }
   ],
   "source": [
    "train_data.shape"
   ]
  },
  {
   "cell_type": "code",
   "execution_count": 22,
   "metadata": {},
   "outputs": [],
   "source": [
    "train_data = train_data.sample(frac=.30)\n",
    "indices = train_data.index\n",
    "train_label = train_label.iloc[indices]"
   ]
  },
  {
   "cell_type": "code",
   "execution_count": 6,
   "metadata": {},
   "outputs": [
    {
     "data": {
      "text/plain": [
       "(260601, 39)"
      ]
     },
     "execution_count": 6,
     "metadata": {},
     "output_type": "execute_result"
    }
   ],
   "source": [
    "train_data.shape"
   ]
  },
  {
   "cell_type": "code",
   "execution_count": 7,
   "metadata": {},
   "outputs": [],
   "source": [
    "X_train, X_valid, y_train, y_valid = train_test_split(train_data, train_label, test_size=0.2, random_state=42)"
   ]
  },
  {
   "cell_type": "code",
   "execution_count": 8,
   "metadata": {},
   "outputs": [],
   "source": [
    "y_fulltrain_labels = train_label['damage_grade']\n",
    "y_train_labels = y_train['damage_grade']\n",
    "y_valid_labels = y_valid['damage_grade']"
   ]
  },
  {
   "cell_type": "code",
   "execution_count": 9,
   "metadata": {},
   "outputs": [],
   "source": [
    "class Encoder(BaseEstimator, TransformerMixin):\n",
    "    def __init__(self):\n",
    "        pass\n",
    "    def fit(self,X, y=None):\n",
    "        return self\n",
    "    def transform(self, X):\n",
    "        Xt = X.copy()\n",
    "        encoded = pd.get_dummies(Xt)\n",
    "        return encoded"
   ]
  },
  {
   "cell_type": "code",
   "execution_count": 10,
   "metadata": {},
   "outputs": [],
   "source": [
    "class ColumnDrop(BaseEstimator, TransformerMixin):\n",
    "    def __init__(self, items):\n",
    "        self.items = items\n",
    "    def fit(self, X, y=None):\n",
    "        return self\n",
    "    def transform(self, X):\n",
    "        Xt = X.copy()\n",
    "        dropped_data = Xt.drop(self.items, axis=1)\n",
    "        return dropped_data"
   ]
  },
  {
   "cell_type": "code",
   "execution_count": 129,
   "metadata": {},
   "outputs": [],
   "source": [
    "drop_features = ['building_id', 'has_secondary_use_gov_office', \n",
    "'has_secondary_use_use_police', 'has_secondary_use_institution','has_secondary_use_health_post',\n",
    "'has_secondary_use_school','has_secondary_use_industry','has_secondary_use_other','has_secondary_use_rental',\n",
    "'has_secondary_use_agriculture','has_secondary_use_hotel','position','plan_configuration', 'ground_floor_type'\n",
    "]"
   ]
  },
  {
   "cell_type": "code",
   "execution_count": 141,
   "metadata": {},
   "outputs": [],
   "source": [
    "drop_features=[\n",
    "'building_id',    \n",
    "'has_secondary_use_institution',\n",
    "'has_secondary_use_health_post',\n",
    "'has_secondary_use_gov_office',\n",
    "'has_secondary_use_use_police',\n",
    "'plan_configuration']"
   ]
  },
  {
   "cell_type": "code",
   "execution_count": 142,
   "metadata": {},
   "outputs": [],
   "source": [
    "column_drop = ColumnDrop(drop_features)\n",
    "encoder = Encoder()\n",
    "sca = StandardScaler()\n",
    "#pca = PCA(n_components= 35)\n",
    "classifier = xgb.XGBClassifier(\n",
    "                                objective = 'multi:softmax',\n",
    "                                learning_rate = 0.3, \n",
    "                                n_estimators = 200, \n",
    "                                max_depth = 10, \n",
    "                                n_jobs=-1, \n",
    "                                scale_pos_weight=1,\n",
    "                                subsample = 0.8,\n",
    "                                min_child_weight=3)\n",
    "                                #colsample_bytree = 0.3)\n",
    "\n",
    "#selector = RFE(classifier, n_features_to_select=15, step=1)"
   ]
  },
  {
   "cell_type": "code",
   "execution_count": 143,
   "metadata": {},
   "outputs": [],
   "source": [
    "#(\"classifier\", classifier)\n",
    "#(\"Encoder\", encoder)\n",
    "#(\"rfe\", selector)\n",
    "pipe = Pipeline([(\"ColumnDrop\", column_drop), (\"Encoder\", encoder), (\"Scaler\", sca), (\"classifier\", classifier)])"
   ]
  },
  {
   "cell_type": "code",
   "execution_count": 144,
   "metadata": {},
   "outputs": [
    {
     "data": {
      "text/plain": [
       "Pipeline(memory=None,\n",
       "         steps=[('ColumnDrop',\n",
       "                 ColumnDrop(items=['building_id',\n",
       "                                   'has_secondary_use_institution',\n",
       "                                   'has_secondary_use_health_post',\n",
       "                                   'has_secondary_use_gov_office',\n",
       "                                   'has_secondary_use_use_police',\n",
       "                                   'plan_configuration'])),\n",
       "                ('Encoder', Encoder()),\n",
       "                ('Scaler',\n",
       "                 StandardScaler(copy=True, with_mean=True, with_std=True)),\n",
       "                ('classifier',\n",
       "                 XGBClassifier(base_score...ter='gbtree',\n",
       "                               colsample_bylevel=1, colsample_bynode=1,\n",
       "                               colsample_bytree=1, gamma=0, learning_rate=0.3,\n",
       "                               max_delta_step=0, max_depth=10,\n",
       "                               min_child_weight=3, missing=None,\n",
       "                               n_estimators=200, n_jobs=-1, nthread=None,\n",
       "                               objective='multi:softprob', random_state=0,\n",
       "                               reg_alpha=0, reg_lambda=1, scale_pos_weight=1,\n",
       "                               seed=None, silent=None, subsample=0.8,\n",
       "                               verbosity=1))],\n",
       "         verbose=False)"
      ]
     },
     "execution_count": 144,
     "metadata": {},
     "output_type": "execute_result"
    }
   ],
   "source": [
    "pipe.fit(X_train, y_train_labels)"
   ]
  },
  {
   "cell_type": "code",
   "execution_count": 145,
   "metadata": {},
   "outputs": [],
   "source": [
    "y_pred = pipe.predict(X_valid)\n",
    "score = f1_score(y_valid_labels, y_pred, average='micro')"
   ]
  },
  {
   "cell_type": "code",
   "execution_count": 146,
   "metadata": {},
   "outputs": [
    {
     "name": "stdout",
     "output_type": "stream",
     "text": [
      "0.743730933788684\n"
     ]
    }
   ],
   "source": [
    "print(score)"
   ]
  },
  {
   "cell_type": "code",
   "execution_count": 25,
   "metadata": {},
   "outputs": [
    {
     "name": "stdout",
     "output_type": "stream",
     "text": [
      "['geo_level_1_id', 'geo_level_2_id', 'land_surface_condition', 'foundation_type', 'roof_type', 'ground_floor_type', 'other_floor_type', 'has_superstructure_adobe_mud', 'has_superstructure_cement_mortar_brick', 'has_secondary_use_hotel', 'has_secondary_use_rental', 'has_secondary_use_other']\n"
     ]
    }
   ],
   "source": [
    "#from itertools import compress\n",
    "#rfe = pipe[3]\n",
    "#df1 = column_drop.transform(X_train)\n",
    "#features_list = df1.columns.to_list()\n",
    "#arr = rfe.support_\n",
    "#ans = list(compress(features_list, arr)) \n",
    "#print(ans)"
   ]
  },
  {
   "cell_type": "code",
   "execution_count": 59,
   "metadata": {},
   "outputs": [],
   "source": [
    "# 200 estimator --> 0.7426 (best)\n",
    "# 300 estimator --> 0.7417 (bad)\n",
    "# 250 estimator --> 0.7424 (not the best nor the worst)\n",
    "# *****************************************************\n",
    "\n",
    "# 0.8 subsample --> 0.7436 --> 0.7426 in website\n",
    "\n",
    "# 'count_families', 'has_secondary_use' dropped --> 0.7414\n",
    "\n",
    "# standard_scaler --> 0.7436 in website , 0.74273325530976 in notebook\n",
    "\n",
    "# position dropped --> 0.7421 in notebook\n",
    "\n",
    "# 0.3 test size --> 0.7404 with dropped position\n",
    "# 0.3 test size --> 0.7421 only building id dropped (bad)\n",
    "# 0.4 test size --> \n",
    "# min_child_weight = 5 --> 0.7450 in notebook , 0.7434 in website\n",
    "\n",
    "# grid_search with 3 cv , for min_child_weights [2,3,4] --> 3 is the best , score in notebook :0.7422, in website : 0.7444\n",
    "\n",
    "# gamma 0.1 --> score in notebook :0.7426, 0.7434 in website\n",
    "# many drop features --> 0.7409\n",
    "\n",
    "# drop_features = ['building_id', 'has_secondary_use_gov_office', 'has_secondary_use_use_police'] --> 0.7437 notebook\n",
    "\n",
    "# drop_features = ['building_id', 'has_secondary_use_gov_office', \n",
    "# 'has_secondary_use_use_police', 'has_secondary_use_institution'] --> 0.7442 notebook\n",
    "\n",
    "# drop_features = ['building_id', 'has_secondary_use_gov_office', \n",
    "#'has_secondary_use_use_police', 'has_secondary_use_institution','has_secondary_use_health_post',\n",
    "#'has_secondary_use_school','has_secondary_use_industry'] --> 0.7441 notebook ---> in website 0.7447\n",
    "\n",
    "## Best drops and  0.50 fraction --> 0.7347659247889485\n",
    "\n",
    "#drop_features = ['building_id', 'has_secondary_use_gov_office', 'has_secondary_use_use_police', 'has_secondary_use_institution',\n",
    "#'has_secondary_use_health_post','has_secondary_use_school','has_secondary_use_industry', \n",
    "#'position', 'plan_configuration', 'legal_ownership_status','has_secondary_use_hotel'\n",
    "#,'has_secondary_use_rental']  --> 0.7450 notebook ---> in website 0.7442\n",
    "\n",
    "#drop_features = ['building_id', 'has_secondary_use_gov_office', 'has_secondary_use_use_police', 'has_secondary_use_institution',\n",
    "#'has_secondary_use_health_post','has_secondary_use_school','has_secondary_use_industry', \n",
    "#'position', 'plan_configuration', 'legal_ownership_status','has_secondary_use_hotel'\n",
    "#,'has_secondary_use_rental']  --> full data ---> in website 0.7456\n"
   ]
  },
  {
   "cell_type": "code",
   "execution_count": 60,
   "metadata": {},
   "outputs": [
    {
     "data": {
      "text/plain": [
       "\"\\nobjective = 'multi:softmax',\\nlearning_rate = 0.3, \\nn_estimators = 200, \\nmax_depth = 10, \\nn_jobs=-1, \\nscale_pos_weight=1,\\nsubsample = 1,\\nmin_child_weight=3)\\ndrop_features = ['building_id']\\n\""
      ]
     },
     "execution_count": 60,
     "metadata": {},
     "output_type": "execute_result"
    }
   ],
   "source": [
    "#Best in website : Score --> 0.7447\n",
    "\n",
    "'''\n",
    "objective = 'multi:softmax',\n",
    "learning_rate = 0.3, \n",
    "n_estimators = 200, \n",
    "max_depth = 10, \n",
    "n_jobs=-1, \n",
    "scale_pos_weight=1,\n",
    "subsample = 1,\n",
    "min_child_weight=3)\n",
    "drop_features = ['building_id', 'has_secondary_use_gov_office', \n",
    "'has_secondary_use_use_police', 'has_secondary_use_institution','has_secondary_use_health_post',\n",
    "'has_secondary_use_school','has_secondary_use_industry'] \n",
    "'''\n",
    "\n",
    "#Best in notebook : Score --> 0.7454\n",
    "\n",
    "'''\n",
    "objective = 'multi:softmax',\n",
    "learning_rate = 0.3, \n",
    "n_estimators = 200, \n",
    "max_depth = 10, \n",
    "n_jobs=-1, \n",
    "scale_pos_weight=1,\n",
    "subsample = 1,\n",
    "min_child_weight=3)\n",
    "drop_features = ['building_id']\n",
    "'''"
   ]
  },
  {
   "cell_type": "code",
   "execution_count": 115,
   "metadata": {},
   "outputs": [],
   "source": [
    "test_data = pd.read_csv(\"test_values.csv\", delimiter=\",\")"
   ]
  },
  {
   "cell_type": "code",
   "execution_count": 116,
   "metadata": {},
   "outputs": [],
   "source": [
    "y_test_pred = pipe.predict(test_data)"
   ]
  },
  {
   "cell_type": "code",
   "execution_count": 117,
   "metadata": {},
   "outputs": [],
   "source": [
    "building_id = test_data['building_id']\n",
    "\n",
    "submission_df = pd.DataFrame({'building_id': building_id, 'damage_grade':y_test_pred}) "
   ]
  },
  {
   "cell_type": "code",
   "execution_count": 118,
   "metadata": {},
   "outputs": [],
   "source": [
    "submission_df.to_csv('gamma_tuned_data.csv', index=False)"
   ]
  },
  {
   "cell_type": "code",
   "execution_count": 127,
   "metadata": {
    "scrolled": true
   },
   "outputs": [
    {
     "name": "stdout",
     "output_type": "stream",
     "text": [
      "geo_level_1_id  -  0.09345605\n",
      "geo_level_2_id  -  0.03693168\n",
      "geo_level_3_id  -  0.021732317\n",
      "count_floors_pre_eq  -  0.0127601875\n",
      "age  -  0.013957512\n",
      "area_percentage  -  0.011003105\n",
      "height_percentage  -  0.012407294\n",
      "has_superstructure_adobe_mud  -  0.015881745\n",
      "has_superstructure_mud_mortar_stone  -  0.031181116\n",
      "has_superstructure_stone_flag  -  0.01940337\n",
      "has_superstructure_cement_mortar_stone  -  0.014077453\n",
      "has_superstructure_mud_mortar_brick  -  0.02086354\n",
      "has_superstructure_cement_mortar_brick  -  0.03064625\n",
      "has_superstructure_timber  -  0.016877105\n",
      "has_superstructure_bamboo  -  0.015936406\n",
      "has_superstructure_rc_non_engineered  -  0.011705466\n",
      "has_superstructure_rc_engineered  -  0.017699108\n",
      "has_superstructure_other  -  0.014343854\n",
      "count_families  -  0.011964695\n",
      "has_secondary_use  -  0.011439489\n",
      "land_surface_condition_n  -  0.009579552\n",
      "land_surface_condition_o  -  0.010261351\n",
      "land_surface_condition_t  -  0.00998822\n",
      "foundation_type_h  -  0.014704766\n",
      "foundation_type_i  -  0.03244121\n",
      "foundation_type_r  -  0.16333012\n",
      "foundation_type_u  -  0.013568176\n",
      "foundation_type_w  -  0.017459374\n",
      "roof_type_n  -  0.013426855\n",
      "roof_type_q  -  0.014016503\n",
      "roof_type_x  -  0.037681226\n",
      "ground_floor_type_f  -  0.010795461\n",
      "ground_floor_type_m  -  0.008268915\n",
      "ground_floor_type_v  -  0.08436116\n",
      "ground_floor_type_x  -  0.011571301\n",
      "ground_floor_type_z  -  0.008797384\n",
      "other_floor_type_j  -  0.017192759\n",
      "other_floor_type_q  -  0.013270478\n",
      "other_floor_type_s  -  0.024776703\n",
      "other_floor_type_x  -  0.011060257\n",
      "legal_ownership_status_a  -  0.009544373\n",
      "legal_ownership_status_r  -  0.0077310395\n",
      "legal_ownership_status_v  -  0.009237009\n",
      "legal_ownership_status_w  -  0.012668048\n"
     ]
    }
   ],
   "source": [
    "tmp = column_drop.transform(X_train)\n",
    "\n",
    "tmp = encoder.transform(tmp)\n",
    "\n",
    "for name, importance in zip(tmp.columns, pipe[3].feature_importances_):\n",
    "    print(name, \" - \",importance)"
   ]
  },
  {
   "cell_type": "code",
   "execution_count": 128,
   "metadata": {},
   "outputs": [
    {
     "data": {
      "image/png": "[encoded data removed]",
      "text/plain": [
       "<Figure size 432x288 with 1 Axes>"
      ]
     },
     "metadata": {
      "needs_background": "light"
     },
     "output_type": "display_data"
    }
   ],
   "source": [
    "feat_importances = pd.Series(pipe[3].feature_importances_, index = tmp.columns)\n",
    "feat_importances.nlargest(10).plot(kind='barh')\n",
    "plt.show()"
   ]
  },
  {
   "cell_type": "code",
   "execution_count": 131,
   "metadata": {
    "collapsed": true
   },
   "outputs": [
    {
     "data": {
      "text/plain": [
       "[Text(0, 0, 'geo_level_1_id'),\n",
       " Text(0, 0, 'geo_level_2_id'),\n",
       " Text(0, 0, 'geo_level_3_id'),\n",
       " Text(0, 0, 'count_floors_pre_eq'),\n",
       " Text(0, 0, 'age'),\n",
       " Text(0, 0, 'area_percentage'),\n",
       " Text(0, 0, 'height_percentage'),\n",
       " Text(0, 0, 'has_superstructure_adobe_mud'),\n",
       " Text(0, 0, 'has_superstructure_mud_mortar_stone'),\n",
       " Text(0, 0, 'has_superstructure_stone_flag'),\n",
       " Text(0, 0, 'has_superstructure_cement_mortar_stone'),\n",
       " Text(0, 0, 'has_superstructure_mud_mortar_brick'),\n",
       " Text(0, 0, 'has_superstructure_cement_mortar_brick'),\n",
       " Text(0, 0, 'has_superstructure_timber'),\n",
       " Text(0, 0, 'has_superstructure_bamboo'),\n",
       " Text(0, 0, 'has_superstructure_rc_non_engineered'),\n",
       " Text(0, 0, 'has_superstructure_rc_engineered'),\n",
       " Text(0, 0, 'has_superstructure_other'),\n",
       " Text(0, 0, 'count_families'),\n",
       " Text(0, 0, 'has_secondary_use'),\n",
       " Text(0, 0, 'has_secondary_use_agriculture'),\n",
       " Text(0, 0, 'has_secondary_use_other'),\n",
       " Text(0, 0, 'land_surface_condition_n'),\n",
       " Text(0, 0, 'land_surface_condition_o'),\n",
       " Text(0, 0, 'land_surface_condition_t'),\n",
       " Text(0, 0, 'foundation_type_h'),\n",
       " Text(0, 0, 'foundation_type_i'),\n",
       " Text(0, 0, 'foundation_type_r'),\n",
       " Text(0, 0, 'foundation_type_u'),\n",
       " Text(0, 0, 'foundation_type_w')]"
      ]
     },
     "execution_count": 131,
     "metadata": {},
     "output_type": "execute_result"
    },
    {
     "data": {
      "image/png": "[encoded data removed]",
      "text/plain": [
       "<Figure size 432x288 with 1 Axes>"
      ]
     },
     "metadata": {
      "needs_background": "light"
     },
     "output_type": "display_data"
    }
   ],
   "source": [
    "plot_importance(pipe[3], max_num_features=30).set_yticklabels(tmp.columns)"
   ]
  },
  {
   "cell_type": "code",
   "execution_count": 127,
   "metadata": {},
   "outputs": [],
   "source": [
    "model = pipe[3]"
   ]
  },
  {
   "cell_type": "code",
   "execution_count": 129,
   "metadata": {},
   "outputs": [
    {
     "data": {
      "text/plain": [
       "array([0.00780494, 0.00853913, 0.00870948, 0.01040658, 0.0104573 ,\n",
       "       0.01059105, 0.01104112, 0.01123249, 0.011318  , 0.0115955 ,\n",
       "       0.01190584, 0.01227569, 0.01245403, 0.01252087, 0.01264828,\n",
       "       0.01265488, 0.01327561, 0.01333957, 0.01338832, 0.01376056,\n",
       "       0.01414075, 0.01452884, 0.01495107, 0.01707238, 0.01749728,\n",
       "       0.01789645, 0.0186174 , 0.01892039, 0.01901534, 0.02018123,\n",
       "       0.0206739 , 0.02095972, 0.0292342 , 0.03354678, 0.03421518,\n",
       "       0.03623824, 0.04782698, 0.05003062, 0.32453406], dtype=float32)"
      ]
     },
     "execution_count": 129,
     "metadata": {},
     "output_type": "execute_result"
    }
   ],
   "source": [
    "from numpy import sort\n",
    "thresholds = sort(model.feature_importances_)\n",
    "thresholds"
   ]
  },
  {
   "cell_type": "code",
   "execution_count": null,
   "metadata": {},
   "outputs": [],
   "source": [
    "from numpy import sort\n",
    "from sklearn.feature_selection import SelectFromModel\n",
    "\n",
    "thresholds = sort(model.feature_importances_)\n",
    "for thresh in thresholds:\n",
    "    # select features using threshold\n",
    "    selection = SelectFromModel(model, threshold=thresh, prefit=True)\n",
    "    select_X_train = selection.transform(X_train)\n",
    "    # train model\n",
    "    selection_model = XGBClassifier()\n",
    "    selection_model.fit(select_X_train, y_train)\n",
    "    # eval model\n",
    "    select_X_test = selection.transform(X_test)\n",
    "    y_pred = selection_model.predict(select_X_test)\n",
    "    predictions = [round(value) for value in y_pred]\n",
    "    accuracy = accuracy_score(y_test, predictions)\n",
    "    print(\"Thresh=%.3f, n=%d, Accuracy: %.2f%%\" % (thresh, select_X_train.shape[1], accuracy*100.0))"
   ]
  },
  {
   "cell_type": "code",
   "execution_count": 138,
   "metadata": {},
   "outputs": [],
   "source": [
    "xgb.cv?"
   ]
  },
  {
   "cell_type": "code",
   "execution_count": 139,
   "metadata": {},
   "outputs": [],
   "source": [
    "xgb.train?"
   ]
  },
  {
   "cell_type": "code",
   "execution_count": null,
   "metadata": {},
   "outputs": [],
   "source": []
  }
 ],
 "metadata": {
  "kernelspec": {
   "display_name": "Python 3",
   "language": "python",
   "name": "python3"
  },
  "language_info": {
   "codemirror_mode": {
    "name": "ipython",
    "version": 3
   },
   "file_extension": ".py",
   "mimetype": "text/x-python",
   "name": "python",
   "nbconvert_exporter": "python",
   "pygments_lexer": "ipython3",
   "version": "3.7.6"
  }
 },
 "nbformat": 4,
 "nbformat_minor": 4
}
