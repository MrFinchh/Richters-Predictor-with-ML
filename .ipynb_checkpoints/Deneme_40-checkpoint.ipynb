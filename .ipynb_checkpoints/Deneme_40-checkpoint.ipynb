{
 "cells": [
  {
   "cell_type": "code",
   "execution_count": 1,
   "metadata": {},
   "outputs": [],
   "source": [
    "import numpy as np\n",
    "import pandas as pd\n",
    "import seaborn as sns\n",
    "import matplotlib.pyplot as plt"
   ]
  },
  {
   "cell_type": "code",
   "execution_count": 2,
   "metadata": {},
   "outputs": [],
   "source": [
    "from sklearn.model_selection import GridSearchCV, train_test_split\n",
    "from sklearn.metrics import f1_score\n",
    "from sklearn.pipeline import Pipeline\n",
    "from sklearn.base import BaseEstimator, TransformerMixin\n",
    "#from sklearn.decomposition import PCA\n",
    "from sklearn.preprocessing import StandardScaler\n",
    "#from sklearn.feature_selection import RFE\n",
    "#from sklearn.svm import SVC\n",
    "#from sklearn.multiclass import OneVsRestClassifier\n",
    "#from sklearn.ensemble import BaggingClassifier"
   ]
  },
  {
   "cell_type": "code",
   "execution_count": 3,
   "metadata": {},
   "outputs": [],
   "source": [
    "import xgboost as xgb\n",
    "from xgboost import plot_importance"
   ]
  },
  {
   "cell_type": "code",
   "execution_count": 4,
   "metadata": {},
   "outputs": [],
   "source": [
    "train_data = pd.read_csv(\"train_values.csv\", delimiter=\",\")\n",
    "train_label = pd.read_csv(\"train_labels.csv\", delimiter=\",\")"
   ]
  },
  {
   "cell_type": "code",
   "execution_count": 5,
   "metadata": {},
   "outputs": [],
   "source": [
    "X_train, X_valid, y_train, y_valid = train_test_split(train_data, train_label, test_size=0.2, random_state=42)"
   ]
  },
  {
   "cell_type": "code",
   "execution_count": 6,
   "metadata": {},
   "outputs": [],
   "source": [
    "y_fulltrain_labels = train_label['damage_grade']\n",
    "y_train_labels = y_train['damage_grade']\n",
    "y_valid_labels = y_valid['damage_grade']"
   ]
  },
  {
   "cell_type": "code",
   "execution_count": 7,
   "metadata": {},
   "outputs": [],
   "source": [
    "class Encoder(BaseEstimator, TransformerMixin):\n",
    "    def __init__(self):\n",
    "        pass\n",
    "    def fit(self,X, y=None):\n",
    "        return self\n",
    "    def transform(self, X):\n",
    "        Xt = X.copy()\n",
    "        encoded = pd.get_dummies(Xt)\n",
    "        return encoded"
   ]
  },
  {
   "cell_type": "code",
   "execution_count": 8,
   "metadata": {},
   "outputs": [],
   "source": [
    "class ColumnDrop(BaseEstimator, TransformerMixin):\n",
    "    def __init__(self, items):\n",
    "        self.items = items\n",
    "    def fit(self, X, y=None):\n",
    "        return self\n",
    "    def transform(self, X):\n",
    "        Xt = X.copy()\n",
    "        dropped_data = Xt.drop(self.items, axis=1)\n",
    "        return dropped_data"
   ]
  },
  {
   "cell_type": "code",
   "execution_count": 28,
   "metadata": {},
   "outputs": [],
   "source": [
    "drop_features = [\n",
    "'building_id',\n",
    "'count_floors_pre_eq',\n",
    " 'has_secondary_use_rental',\n",
    " 'has_secondary_use_institution',\n",
    " 'has_secondary_use_school',\n",
    " 'has_secondary_use_industry',\n",
    " 'has_secondary_use_gov_office',\n",
    " 'has_secondary_use_use_police',\n",
    " 'land_surface_condition_n',\n",
    " 'land_surface_condition_t',\n",
    " 'foundation_type_u',\n",
    " 'roof_type_n',\n",
    " 'roof_type_q',\n",
    " 'ground_floor_type_f',\n",
    " 'ground_floor_type_m',\n",
    " 'other_floor_type_s',\n",
    " 'other_floor_type_x',\n",
    " 'position_o',\n",
    " 'position_s',\n",
    " 'position_t',\n",
    " 'plan_configuration_c',\n",
    " 'plan_configuration_f',\n",
    " 'plan_configuration_m',\n",
    " 'plan_configuration_n',\n",
    " 'plan_configuration_o',\n",
    " 'plan_configuration_s']\n",
    "#'age',\n",
    "# 'area_percentage',\n",
    "# 'height_percentage',\n",
    "\n"
   ]
  },
  {
   "cell_type": "code",
   "execution_count": 29,
   "metadata": {},
   "outputs": [],
   "source": [
    "column_drop = ColumnDrop(drop_features)\n",
    "encoder = Encoder()\n",
    "sca = StandardScaler()\n",
    "#pca = PCA(n_components= 35)\n",
    "classifier = xgb.XGBClassifier(\n",
    "                                objective = 'multi:softmax',\n",
    "                                learning_rate = 0.3, \n",
    "                                n_estimators = 200, \n",
    "                                max_depth = 10, \n",
    "                                n_jobs=-1, \n",
    "                                scale_pos_weight=1,\n",
    "                                subsample = 0.8,\n",
    "                                min_child_weight=3)\n",
    "                                #colsample_bytree = 0.3)"
   ]
  },
  {
   "cell_type": "code",
   "execution_count": 30,
   "metadata": {},
   "outputs": [],
   "source": [
    "X_train = encoder.transform(X_train)\n",
    "X_valid = encoder.transform(X_valid)"
   ]
  },
  {
   "cell_type": "code",
   "execution_count": 31,
   "metadata": {},
   "outputs": [],
   "source": [
    "#(\"classifier\", classifier)\n",
    "#(\"Encoder\", encoder)\n",
    "#(\"rfe\", selector)\n",
    "pipe = Pipeline([(\"ColumnDrop\", column_drop),(\"Scaler\", sca), (\"classifier\", classifier)])"
   ]
  },
  {
   "cell_type": "code",
   "execution_count": 32,
   "metadata": {},
   "outputs": [
    {
     "data": {
      "text/plain": [
       "Pipeline(memory=None,\n",
       "         steps=[('ColumnDrop',\n",
       "                 ColumnDrop(items=['building_id', 'count_floors_pre_eq',\n",
       "                                   'has_secondary_use_rental',\n",
       "                                   'has_secondary_use_institution',\n",
       "                                   'has_secondary_use_school',\n",
       "                                   'has_secondary_use_industry',\n",
       "                                   'has_secondary_use_gov_office',\n",
       "                                   'has_secondary_use_use_police',\n",
       "                                   'land_surface_condition_n',\n",
       "                                   'land_surface_condition_t',\n",
       "                                   'foundation_type_u', 'ro...\n",
       "                 XGBClassifier(base_score=0.5, booster='gbtree',\n",
       "                               colsample_bylevel=1, colsample_bynode=1,\n",
       "                               colsample_bytree=1, gamma=0, learning_rate=0.3,\n",
       "                               max_delta_step=0, max_depth=10,\n",
       "                               min_child_weight=3, missing=None,\n",
       "                               n_estimators=200, n_jobs=-1, nthread=None,\n",
       "                               objective='multi:softprob', random_state=0,\n",
       "                               reg_alpha=0, reg_lambda=1, scale_pos_weight=1,\n",
       "                               seed=None, silent=None, subsample=0.8,\n",
       "                               verbosity=1))],\n",
       "         verbose=False)"
      ]
     },
     "execution_count": 32,
     "metadata": {},
     "output_type": "execute_result"
    }
   ],
   "source": [
    "pipe.fit(X_train, y_train_labels)"
   ]
  },
  {
   "cell_type": "code",
   "execution_count": 33,
   "metadata": {},
   "outputs": [],
   "source": [
    "y_pred = pipe.predict(X_valid)\n",
    "score = f1_score(y_valid_labels, y_pred, average='micro')"
   ]
  },
  {
   "cell_type": "code",
   "execution_count": 34,
   "metadata": {},
   "outputs": [
    {
     "name": "stdout",
     "output_type": "stream",
     "text": [
      "0.7420233686997565\n"
     ]
    }
   ],
   "source": [
    "print(score)"
   ]
  },
  {
   "cell_type": "code",
   "execution_count": 35,
   "metadata": {},
   "outputs": [
    {
     "name": "stdout",
     "output_type": "stream",
     "text": [
      "geo_level_1_id  -  0.06396525\n",
      "geo_level_2_id  -  0.021107413\n",
      "geo_level_3_id  -  0.013024981\n",
      "age  -  0.010517519\n",
      "area_percentage  -  0.009214648\n",
      "height_percentage  -  0.010465817\n",
      "has_superstructure_adobe_mud  -  0.015065025\n",
      "has_superstructure_mud_mortar_stone  -  0.045093052\n",
      "has_superstructure_stone_flag  -  0.027615191\n",
      "has_superstructure_cement_mortar_stone  -  0.017488739\n",
      "has_superstructure_mud_mortar_brick  -  0.02146729\n",
      "has_superstructure_cement_mortar_brick  -  0.032480203\n",
      "has_superstructure_timber  -  0.013861862\n",
      "has_superstructure_bamboo  -  0.012748486\n",
      "has_superstructure_rc_non_engineered  -  0.013679515\n",
      "has_superstructure_rc_engineered  -  0.015307283\n",
      "has_superstructure_other  -  0.017964084\n",
      "count_families  -  0.013078364\n",
      "has_secondary_use  -  0.0142412875\n",
      "has_secondary_use_agriculture  -  0.013905179\n",
      "has_secondary_use_hotel  -  0.010339242\n",
      "has_secondary_use_health_post  -  0.0076694996\n",
      "has_secondary_use_other  -  0.014826225\n",
      "land_surface_condition_o  -  0.014875086\n",
      "foundation_type_h  -  0.02608996\n",
      "foundation_type_i  -  0.050966017\n",
      "foundation_type_r  -  0.2035974\n",
      "foundation_type_w  -  0.0116176475\n",
      "roof_type_x  -  0.019043295\n",
      "ground_floor_type_v  -  0.06052888\n",
      "ground_floor_type_x  -  0.0149582\n",
      "ground_floor_type_z  -  0.013645384\n",
      "other_floor_type_j  -  0.012506787\n",
      "other_floor_type_q  -  0.01484585\n",
      "position_j  -  0.010878418\n",
      "plan_configuration_a  -  0.011131307\n",
      "plan_configuration_d  -  0.011923658\n",
      "plan_configuration_q  -  0.0151944505\n",
      "plan_configuration_u  -  0.016293144\n",
      "legal_ownership_status_a  -  0.011892953\n",
      "legal_ownership_status_r  -  0.0142079145\n",
      "legal_ownership_status_v  -  0.012695508\n",
      "legal_ownership_status_w  -  0.017981963\n"
     ]
    }
   ],
   "source": [
    "tmp = column_drop.transform(X_train)\n",
    "\n",
    "tmp = encoder.transform(tmp)\n",
    "\n",
    "for name, importance in zip(tmp.columns, pipe[2].feature_importances_):\n",
    "    print(name, \" - \",importance)"
   ]
  },
  {
   "cell_type": "code",
   "execution_count": null,
   "metadata": {},
   "outputs": [],
   "source": []
  }
 ],
 "metadata": {
  "kernelspec": {
   "display_name": "Python 3",
   "language": "python",
   "name": "python3"
  },
  "language_info": {
   "codemirror_mode": {
    "name": "ipython",
    "version": 3
   },
   "file_extension": ".py",
   "mimetype": "text/x-python",
   "name": "python",
   "nbconvert_exporter": "python",
   "pygments_lexer": "ipython3",
   "version": "3.7.6"
  }
 },
 "nbformat": 4,
 "nbformat_minor": 4
}
