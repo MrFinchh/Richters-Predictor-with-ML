{
 "cells": [
  {
   "cell_type": "code",
   "execution_count": 85,
   "metadata": {},
   "outputs": [],
   "source": [
    "import numpy as np\n",
    "import pandas as pd\n",
    "import seaborn as sns\n",
    "import matplotlib.pyplot as plt"
   ]
  },
  {
   "cell_type": "code",
   "execution_count": 86,
   "metadata": {},
   "outputs": [],
   "source": [
    "from sklearn.model_selection import GridSearchCV, train_test_split\n",
    "from sklearn.metrics import f1_score\n",
    "from sklearn.pipeline import Pipeline\n",
    "from sklearn.base import BaseEstimator, TransformerMixin\n",
    "from sklearn.preprocessing import StandardScaler\n",
    "from sklearn.neighbors import KNeighborsClassifier"
   ]
  },
  {
   "cell_type": "code",
   "execution_count": 87,
   "metadata": {},
   "outputs": [],
   "source": [
    "train_data = pd.read_csv(\"C:/Users/Görkem/DrivenData/train_values.csv\", delimiter=\",\")\n",
    "train_label = pd.read_csv(\"C:/Users/Görkem/DrivenData/train_labels.csv\", delimiter=\",\")"
   ]
  },
  {
   "cell_type": "code",
   "execution_count": 77,
   "metadata": {},
   "outputs": [],
   "source": [
    "train_data = train_data.sample(frac=.30)\n",
    "indices = train_data.index\n",
    "train_label = train_label.iloc[indices]"
   ]
  },
  {
   "cell_type": "code",
   "execution_count": 88,
   "metadata": {},
   "outputs": [],
   "source": [
    "X_train, X_valid, y_train, y_valid = train_test_split(train_data, train_label, test_size=0.2, random_state=42)"
   ]
  },
  {
   "cell_type": "code",
   "execution_count": 89,
   "metadata": {},
   "outputs": [],
   "source": [
    "y_fulltrain_labels = train_label['damage_grade']\n",
    "y_train_labels = y_train['damage_grade']\n",
    "y_valid_labels = y_valid['damage_grade']"
   ]
  },
  {
   "cell_type": "code",
   "execution_count": 91,
   "metadata": {},
   "outputs": [],
   "source": [
    "class Encoder(BaseEstimator, TransformerMixin):\n",
    "    def __init__(self):\n",
    "        pass\n",
    "    def fit(self,X, y=None):\n",
    "        return self\n",
    "    def transform(self, X):\n",
    "        Xt = X.copy()\n",
    "        encoded = pd.get_dummies(Xt)\n",
    "        return encoded"
   ]
  },
  {
   "cell_type": "code",
   "execution_count": 92,
   "metadata": {},
   "outputs": [],
   "source": [
    "class ColumnDrop(BaseEstimator, TransformerMixin):\n",
    "    def __init__(self, items):\n",
    "        self.items = items\n",
    "    def fit(self, X, y=None):\n",
    "        return self\n",
    "    def transform(self, X):\n",
    "        Xt = X.copy()\n",
    "        dropped_data = Xt.drop(self.items, axis=1)\n",
    "        return dropped_data"
   ]
  },
  {
   "cell_type": "code",
   "execution_count": 93,
   "metadata": {},
   "outputs": [],
   "source": [
    "drop_features = [\n",
    "'building_id',\n",
    "'count_floors_pre_eq',\n",
    " 'has_secondary_use_rental',\n",
    " 'has_secondary_use_institution',\n",
    " 'has_secondary_use_school',\n",
    " 'has_secondary_use_industry',\n",
    " 'has_secondary_use_gov_office',\n",
    " 'has_secondary_use_use_police',\n",
    " 'land_surface_condition_n',\n",
    " 'land_surface_condition_t',\n",
    " 'foundation_type_u',\n",
    " 'roof_type_n',\n",
    " 'roof_type_q',\n",
    " 'ground_floor_type_f',\n",
    " 'ground_floor_type_m',\n",
    " 'other_floor_type_s',\n",
    " 'other_floor_type_x',\n",
    " 'position_o',\n",
    " 'position_s',\n",
    " 'position_t',\n",
    " 'plan_configuration_c',\n",
    " 'plan_configuration_f',\n",
    " 'plan_configuration_m',\n",
    " 'plan_configuration_n',\n",
    " 'plan_configuration_o',\n",
    " 'plan_configuration_s']"
   ]
  },
  {
   "cell_type": "code",
   "execution_count": 94,
   "metadata": {},
   "outputs": [],
   "source": [
    "column_drop = ColumnDrop(drop_features)\n",
    "encoder = Encoder()\n",
    "sca = StandardScaler()\n",
    "clf = KNeighborsClassifier(n_jobs=-1, n_neighbors=14)\n"
   ]
  },
  {
   "cell_type": "code",
   "execution_count": 95,
   "metadata": {},
   "outputs": [],
   "source": [
    "X_train = encoder.transform(X_train)\n",
    "X_valid = encoder.transform(X_valid)\n",
    "\n",
    "X_train = column_drop.transform(X_train)\n",
    "X_valid = column_drop.transform(X_valid)"
   ]
  },
  {
   "cell_type": "code",
   "execution_count": 96,
   "metadata": {},
   "outputs": [],
   "source": [
    "pipe = Pipeline([(\"Scaler\", sca), (\"knn\", clf)])"
   ]
  },
  {
   "cell_type": "code",
   "execution_count": 97,
   "metadata": {},
   "outputs": [
    {
     "data": {
      "text/plain": [
       "Pipeline(memory=None,\n",
       "         steps=[('Scaler',\n",
       "                 StandardScaler(copy=True, with_mean=True, with_std=True)),\n",
       "                ('knn',\n",
       "                 KNeighborsClassifier(algorithm='auto', leaf_size=30,\n",
       "                                      metric='minkowski', metric_params=None,\n",
       "                                      n_jobs=-1, n_neighbors=14, p=2,\n",
       "                                      weights='uniform'))],\n",
       "         verbose=False)"
      ]
     },
     "execution_count": 97,
     "metadata": {},
     "output_type": "execute_result"
    }
   ],
   "source": [
    "pipe.fit(X_train, y_train_labels)"
   ]
  },
  {
   "cell_type": "code",
   "execution_count": 98,
   "metadata": {},
   "outputs": [
    {
     "data": {
      "text/plain": [
       "(52121, 43)"
      ]
     },
     "execution_count": 98,
     "metadata": {},
     "output_type": "execute_result"
    }
   ],
   "source": [
    "X_valid.shape"
   ]
  },
  {
   "cell_type": "code",
   "execution_count": 99,
   "metadata": {
    "scrolled": true
   },
   "outputs": [],
   "source": [
    "y_pred = pipe.predict(X_valid)\n",
    "score = f1_score(y_valid_labels, y_pred, average='micro')"
   ]
  },
  {
   "cell_type": "code",
   "execution_count": 100,
   "metadata": {},
   "outputs": [
    {
     "name": "stdout",
     "output_type": "stream",
     "text": [
      "0.6607509449166363\n"
     ]
    }
   ],
   "source": [
    "print(score)"
   ]
  },
  {
   "cell_type": "code",
   "execution_count": null,
   "metadata": {},
   "outputs": [],
   "source": []
  },
  {
   "cell_type": "code",
   "execution_count": null,
   "metadata": {},
   "outputs": [],
   "source": []
  },
  {
   "cell_type": "code",
   "execution_count": 84,
   "metadata": {
    "collapsed": true
   },
   "outputs": [
    {
     "name": "stdout",
     "output_type": "stream",
     "text": [
      "6  neighbors fitted with score : 0.6266308518802763\n",
      "8  neighbors fitted with score : 0.6307879253005884\n",
      "10  neighbors fitted with score : 0.6287413660782809\n",
      "12  neighbors fitted with score : 0.6284215911997953\n",
      "14  neighbors fitted with score : 0.6305321053977999\n",
      "16  neighbors fitted with score : 0.6281018163213098\n",
      "18  neighbors fitted with score : 0.6252238424149399\n",
      "20  neighbors fitted with score : 0.6245203376822717\n",
      "22  neighbors fitted with score : 0.6243284727551803\n",
      "24  neighbors fitted with score : 0.621194678946022\n",
      "26  neighbors fitted with score : 0.6229854182655411\n",
      "28  neighbors fitted with score : 0.624712202609363\n",
      "30  neighbors fitted with score : 0.6228575083141469\n",
      "32  neighbors fitted with score : 0.6237528779739063\n",
      "34  neighbors fitted with score : 0.6226656433870555\n",
      "36  neighbors fitted with score : 0.6214504988488104\n",
      "38  neighbors fitted with score : 0.6226016884113584\n",
      "40  neighbors fitted with score : 0.6216423637759018\n",
      "42  neighbors fitted with score : 0.6211307239703249\n",
      "44  neighbors fitted with score : 0.6213865438731133\n",
      "46  neighbors fitted with score : 0.6200434893834741\n",
      "48  neighbors fitted with score : 0.6175492453312867\n"
     ]
    }
   ],
   "source": [
    "nb_list = list(range(6, 50, 2))\n",
    "pipelines = []\n",
    "scores = []\n",
    "for nb in nb_list:\n",
    "    clf = KNeighborsClassifier(n_jobs=-1, n_neighbors=nb)\n",
    "    pipe = Pipeline([(\"Scaler\", sca), (\"knn\", clf)])\n",
    "    pipelines.append(pipe)\n",
    "    \n",
    "    pipe.fit(X_train, y_train_labels)\n",
    "    y_pred = pipe.predict(X_valid)\n",
    "    score = f1_score(y_valid_labels, y_pred, average='micro')\n",
    "    scores.append(score)\n",
    "    print(nb, \" neighbors fitted with score :\", score)"
   ]
  },
  {
   "cell_type": "code",
   "execution_count": null,
   "metadata": {},
   "outputs": [],
   "source": []
  },
  {
   "cell_type": "code",
   "execution_count": null,
   "metadata": {},
   "outputs": [],
   "source": []
  }
 ],
 "metadata": {
  "kernelspec": {
   "display_name": "Python 3",
   "language": "python",
   "name": "python3"
  },
  "language_info": {
   "codemirror_mode": {
    "name": "ipython",
    "version": 3
   },
   "file_extension": ".py",
   "mimetype": "text/x-python",
   "name": "python",
   "nbconvert_exporter": "python",
   "pygments_lexer": "ipython3",
   "version": "3.7.6"
  }
 },
 "nbformat": 4,
 "nbformat_minor": 4
}
