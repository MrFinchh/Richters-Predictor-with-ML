{
 "cells": [
  {
   "cell_type": "code",
   "execution_count": 16,
   "metadata": {},
   "outputs": [],
   "source": [
    "import numpy as np\n",
    "import pandas as pd\n",
    "import seaborn as sns\n",
    "import matplotlib.pyplot as plt"
   ]
  },
  {
   "cell_type": "code",
   "execution_count": 17,
   "metadata": {},
   "outputs": [],
   "source": [
    "from sklearn.model_selection import GridSearchCV, train_test_split,  ParameterGrid\n",
    "from sklearn.metrics import f1_score\n",
    "from sklearn.pipeline import Pipeline\n",
    "from sklearn.base import BaseEstimator, TransformerMixin\n",
    "from sklearn.preprocessing import StandardScaler"
   ]
  },
  {
   "cell_type": "code",
   "execution_count": 18,
   "metadata": {},
   "outputs": [],
   "source": [
    "import xgboost as xgb"
   ]
  },
  {
   "cell_type": "code",
   "execution_count": 19,
   "metadata": {},
   "outputs": [],
   "source": [
    "class Encoder(BaseEstimator, TransformerMixin):\n",
    "    def __init__(self):\n",
    "        pass\n",
    "    def fit(self,X, y=None):\n",
    "        return self\n",
    "    def transform(self, X):\n",
    "        Xt = X.copy()\n",
    "        encoded = pd.get_dummies(Xt)\n",
    "        return encoded"
   ]
  },
  {
   "cell_type": "code",
   "execution_count": 20,
   "metadata": {},
   "outputs": [],
   "source": [
    "class ColumnDrop(BaseEstimator, TransformerMixin):\n",
    "    def __init__(self, items):\n",
    "        self.items = items\n",
    "    def fit(self, X, y=None):\n",
    "        return self\n",
    "    def transform(self, X):\n",
    "        Xt = X.copy()\n",
    "        dropped_data = Xt.drop(self.items, axis=1)\n",
    "        return dropped_data"
   ]
  },
  {
   "cell_type": "code",
   "execution_count": 21,
   "metadata": {},
   "outputs": [],
   "source": [
    "train_data = pd.read_csv(\"train_values.csv\", delimiter=\",\")\n",
    "\n",
    "train_label = pd.read_csv(\"train_labels.csv\", delimiter=\",\")\n",
    "\n",
    "test_data = pd.read_csv(\"test_values.csv\", delimiter=\",\")"
   ]
  },
  {
   "cell_type": "code",
   "execution_count": 22,
   "metadata": {},
   "outputs": [],
   "source": [
    "#Get half of samples\n",
    "train_data = train_data.sample(frac=.30)\n",
    "indices = train_data.index\n",
    "train_label = train_label.iloc[indices]"
   ]
  },
  {
   "cell_type": "code",
   "execution_count": 23,
   "metadata": {},
   "outputs": [
    {
     "data": {
      "text/plain": [
       "(78180, 39)"
      ]
     },
     "execution_count": 23,
     "metadata": {},
     "output_type": "execute_result"
    }
   ],
   "source": [
    "train_data.shape"
   ]
  },
  {
   "cell_type": "code",
   "execution_count": 24,
   "metadata": {},
   "outputs": [
    {
     "data": {
      "text/plain": [
       "(78180, 2)"
      ]
     },
     "execution_count": 24,
     "metadata": {},
     "output_type": "execute_result"
    }
   ],
   "source": [
    "train_label.shape"
   ]
  },
  {
   "cell_type": "code",
   "execution_count": 25,
   "metadata": {},
   "outputs": [],
   "source": [
    "X_train, X_valid, y_train, y_valid = train_test_split(train_data, train_label, test_size=0.2, random_state=42)"
   ]
  },
  {
   "cell_type": "code",
   "execution_count": 26,
   "metadata": {},
   "outputs": [],
   "source": [
    "y_train_labels = y_train['damage_grade']\n",
    "y_valid_labels = y_valid['damage_grade']"
   ]
  },
  {
   "cell_type": "code",
   "execution_count": 27,
   "metadata": {},
   "outputs": [],
   "source": [
    "param_grid = {\"classifier__max_depth\": [10, 15, 20],\n",
    "                \"classifier__learning_rate\": [00.1, 0.1, 0.3],\n",
    "                \"classifier__n_estimators\": [150, 200],\n",
    "                 \"classifier__colsample_bytree\" : [0.5, 0.8]}"
   ]
  },
  {
   "cell_type": "code",
   "execution_count": 30,
   "metadata": {},
   "outputs": [],
   "source": [
    "param_grid = {\"classifier__max_depth\": [10],\n",
    "                \"classifier__learning_rate\": [00.1],\n",
    "                \"classifier__n_estimators\": [200],\n",
    "                 \"classifier__colsample_bytree\" : [0.8]}"
   ]
  },
  {
   "cell_type": "code",
   "execution_count": 28,
   "metadata": {},
   "outputs": [],
   "source": [
    "drop_features = [\n",
    "'building_id', 'has_secondary_use_gov_office', \n",
    "'has_secondary_use_use_police', 'has_secondary_use_institution','has_secondary_use_health_post',\n",
    "'has_secondary_use_school','has_secondary_use_industry'\n",
    "]"
   ]
  },
  {
   "cell_type": "code",
   "execution_count": 29,
   "metadata": {},
   "outputs": [],
   "source": [
    "column_drop = ColumnDrop(drop_features)\n",
    "encoder = Encoder()\n",
    "classifier = xgb.XGBClassifier(n_jobs=-1, scale_pos_weight=1, objective = 'multi:softmax')\n",
    "sca = StandardScaler()\n",
    "pipe = Pipeline([(\"ColumnDrop\", column_drop), (\"Encoder\", encoder), (\"Scaler\", sca), (\"classifier\", classifier)])\n",
    "grid_search = GridSearchCV(pipe, param_grid, cv =3, n_jobs =-1, verbose = 10, refit=True)"
   ]
  },
  {
   "cell_type": "code",
   "execution_count": 30,
   "metadata": {},
   "outputs": [
    {
     "name": "stdout",
     "output_type": "stream",
     "text": [
      "Fitting 3 folds for each of 36 candidates, totalling 108 fits\n"
     ]
    },
    {
     "name": "stderr",
     "output_type": "stream",
     "text": [
      "[Parallel(n_jobs=-1)]: Using backend LokyBackend with 8 concurrent workers.\n",
      "[Parallel(n_jobs=-1)]: Done   2 tasks      | elapsed:  1.5min\n",
      "[Parallel(n_jobs=-1)]: Done   9 tasks      | elapsed:  4.2min\n",
      "[Parallel(n_jobs=-1)]: Done  16 tasks      | elapsed:  6.5min\n",
      "[Parallel(n_jobs=-1)]: Done  25 tasks      | elapsed:  9.1min\n",
      "[Parallel(n_jobs=-1)]: Done  34 tasks      | elapsed: 12.0min\n",
      "[Parallel(n_jobs=-1)]: Done  45 tasks      | elapsed: 15.0min\n",
      "[Parallel(n_jobs=-1)]: Done  56 tasks      | elapsed: 18.6min\n",
      "[Parallel(n_jobs=-1)]: Done  69 tasks      | elapsed: 25.1min\n",
      "[Parallel(n_jobs=-1)]: Done  82 tasks      | elapsed: 30.8min\n",
      "[Parallel(n_jobs=-1)]: Done 104 out of 108 | elapsed: 39.7min remaining:  1.5min\n",
      "[Parallel(n_jobs=-1)]: Done 108 out of 108 | elapsed: 41.2min finished\n"
     ]
    },
    {
     "data": {
      "text/plain": [
       "GridSearchCV(cv=3, error_score=nan,\n",
       "             estimator=Pipeline(memory=None,\n",
       "                                steps=[('ColumnDrop',\n",
       "                                        ColumnDrop(items=['building_id',\n",
       "                                                          'has_secondary_use_gov_office',\n",
       "                                                          'has_secondary_use_use_police',\n",
       "                                                          'has_secondary_use_institution',\n",
       "                                                          'has_secondary_use_health_post',\n",
       "                                                          'has_secondary_use_school',\n",
       "                                                          'has_secondary_use_industry'])),\n",
       "                                       ('Encoder', Encoder()),\n",
       "                                       ('Scaler',\n",
       "                                        StandardScaler(...\n",
       "                                                      scale_pos_weight=1,\n",
       "                                                      seed=None, silent=None,\n",
       "                                                      subsample=1,\n",
       "                                                      verbosity=1))],\n",
       "                                verbose=False),\n",
       "             iid='deprecated', n_jobs=-1,\n",
       "             param_grid={'classifier__colsample_bytree': [0.5, 0.8],\n",
       "                         'classifier__learning_rate': [0.1, 0.1, 0.3],\n",
       "                         'classifier__max_depth': [10, 15, 20],\n",
       "                         'classifier__n_estimators': [150, 200]},\n",
       "             pre_dispatch='2*n_jobs', refit=True, return_train_score=False,\n",
       "             scoring=None, verbose=10)"
      ]
     },
     "execution_count": 30,
     "metadata": {},
     "output_type": "execute_result"
    }
   ],
   "source": [
    "grid_search.fit(X_train , y_train_labels)"
   ]
  },
  {
   "cell_type": "code",
   "execution_count": 33,
   "metadata": {},
   "outputs": [
    {
     "data": {
      "text/plain": [
       "{'classifier__colsample_bytree': 0.5,\n",
       " 'classifier__learning_rate': 0.1,\n",
       " 'classifier__max_depth': 10,\n",
       " 'classifier__n_estimators': 200}"
      ]
     },
     "execution_count": 33,
     "metadata": {},
     "output_type": "execute_result"
    }
   ],
   "source": [
    "grid_search.best_params_"
   ]
  },
  {
   "cell_type": "code",
   "execution_count": 37,
   "metadata": {},
   "outputs": [
    {
     "data": {
      "text/plain": [
       "{'mean_fit_time': array([ 78.93422437, 111.58667827, 145.19462768, 194.9435997 ,\n",
       "        201.82831462, 234.56496239,  78.86312707,  98.33903607,\n",
       "        116.34799727, 155.51829441, 164.74928641, 215.31811349,\n",
       "         71.2192963 ,  94.68589997, 111.67947451, 147.12905105,\n",
       "        152.98804712, 204.52097376, 107.80549908, 138.66202593,\n",
       "        165.93212509, 221.64586163, 231.02047332, 311.66258152,\n",
       "        105.02624933, 138.48383959, 173.81304987, 223.05742526,\n",
       "        231.35358334, 308.21811152, 101.53126987, 134.08026544,\n",
       "        163.57176773, 207.74797877, 210.15833855, 220.87729009]),\n",
       " 'std_fit_time': array([ 0.81353448,  0.80294124,  4.34964476,  1.14754693,  0.74211259,\n",
       "        13.43915885,  3.0563337 ,  2.85259124,  2.83867451,  3.04267029,\n",
       "         2.44794108,  5.55913429,  0.81413556,  1.70861105,  1.21721519,\n",
       "         1.99786118,  2.54132092,  2.00356314,  4.24316405,  1.27337292,\n",
       "         2.0964013 ,  1.91630372,  4.20812895,  3.14366263,  1.23254571,\n",
       "         4.84839798,  5.29568494,  3.84430657,  7.56133959,  1.59177235,\n",
       "         2.5017584 ,  4.31257531,  3.65613064,  2.66373052,  5.56107757,\n",
       "        19.53925779]),\n",
       " 'mean_score_time': array([ 9.45299784, 11.8233099 , 13.53223729, 19.25922648, 15.25099015,\n",
       "        18.19835456,  3.49731914,  5.18813229,  9.89388712, 12.76554465,\n",
       "        12.78716167, 17.96265237,  2.5312326 ,  4.68647345,  7.8433675 ,\n",
       "        12.70404204, 11.22133875, 16.5783534 ,  3.52690562,  5.17682195,\n",
       "         9.60731999, 13.62790521, 12.52552199, 17.82402205,  3.11933478,\n",
       "         5.15587099,  9.11895847, 13.74259973, 12.56807248, 18.12488699,\n",
       "         2.50197911,  4.21440117,  9.46170712, 11.61163187,  8.56111598,\n",
       "         7.35867262]),\n",
       " 'std_score_time': array([0.26310411, 0.54344929, 0.43704719, 0.36543532, 1.52100304,\n",
       "        0.19258902, 0.20073586, 0.53793541, 0.36885668, 0.34846977,\n",
       "        0.58787562, 0.33682255, 0.13009833, 0.47666808, 0.20202733,\n",
       "        0.68798681, 0.29468079, 0.90297324, 0.08922664, 0.10572876,\n",
       "        0.61464102, 0.60032007, 0.63256349, 0.46961253, 0.06953134,\n",
       "        0.45327691, 0.51274069, 0.18315984, 0.57496617, 1.42515519,\n",
       "        0.0864353 , 0.08900422, 1.10310054, 0.51693688, 0.58207248,\n",
       "        0.94794555]),\n",
       " 'param_classifier__colsample_bytree': masked_array(data=[0.5, 0.5, 0.5, 0.5, 0.5, 0.5, 0.5, 0.5, 0.5, 0.5, 0.5,\n",
       "                    0.5, 0.5, 0.5, 0.5, 0.5, 0.5, 0.5, 0.8, 0.8, 0.8, 0.8,\n",
       "                    0.8, 0.8, 0.8, 0.8, 0.8, 0.8, 0.8, 0.8, 0.8, 0.8, 0.8,\n",
       "                    0.8, 0.8, 0.8],\n",
       "              mask=[False, False, False, False, False, False, False, False,\n",
       "                    False, False, False, False, False, False, False, False,\n",
       "                    False, False, False, False, False, False, False, False,\n",
       "                    False, False, False, False, False, False, False, False,\n",
       "                    False, False, False, False],\n",
       "        fill_value='?',\n",
       "             dtype=object),\n",
       " 'param_classifier__learning_rate': masked_array(data=[0.1, 0.1, 0.1, 0.1, 0.1, 0.1, 0.1, 0.1, 0.1, 0.1, 0.1,\n",
       "                    0.1, 0.3, 0.3, 0.3, 0.3, 0.3, 0.3, 0.1, 0.1, 0.1, 0.1,\n",
       "                    0.1, 0.1, 0.1, 0.1, 0.1, 0.1, 0.1, 0.1, 0.3, 0.3, 0.3,\n",
       "                    0.3, 0.3, 0.3],\n",
       "              mask=[False, False, False, False, False, False, False, False,\n",
       "                    False, False, False, False, False, False, False, False,\n",
       "                    False, False, False, False, False, False, False, False,\n",
       "                    False, False, False, False, False, False, False, False,\n",
       "                    False, False, False, False],\n",
       "        fill_value='?',\n",
       "             dtype=object),\n",
       " 'param_classifier__max_depth': masked_array(data=[10, 10, 15, 15, 20, 20, 10, 10, 15, 15, 20, 20, 10, 10,\n",
       "                    15, 15, 20, 20, 10, 10, 15, 15, 20, 20, 10, 10, 15, 15,\n",
       "                    20, 20, 10, 10, 15, 15, 20, 20],\n",
       "              mask=[False, False, False, False, False, False, False, False,\n",
       "                    False, False, False, False, False, False, False, False,\n",
       "                    False, False, False, False, False, False, False, False,\n",
       "                    False, False, False, False, False, False, False, False,\n",
       "                    False, False, False, False],\n",
       "        fill_value='?',\n",
       "             dtype=object),\n",
       " 'param_classifier__n_estimators': masked_array(data=[150, 200, 150, 200, 150, 200, 150, 200, 150, 200, 150,\n",
       "                    200, 150, 200, 150, 200, 150, 200, 150, 200, 150, 200,\n",
       "                    150, 200, 150, 200, 150, 200, 150, 200, 150, 200, 150,\n",
       "                    200, 150, 200],\n",
       "              mask=[False, False, False, False, False, False, False, False,\n",
       "                    False, False, False, False, False, False, False, False,\n",
       "                    False, False, False, False, False, False, False, False,\n",
       "                    False, False, False, False, False, False, False, False,\n",
       "                    False, False, False, False],\n",
       "        fill_value='?',\n",
       "             dtype=object),\n",
       " 'params': [{'classifier__colsample_bytree': 0.5,\n",
       "   'classifier__learning_rate': 0.1,\n",
       "   'classifier__max_depth': 10,\n",
       "   'classifier__n_estimators': 150},\n",
       "  {'classifier__colsample_bytree': 0.5,\n",
       "   'classifier__learning_rate': 0.1,\n",
       "   'classifier__max_depth': 10,\n",
       "   'classifier__n_estimators': 200},\n",
       "  {'classifier__colsample_bytree': 0.5,\n",
       "   'classifier__learning_rate': 0.1,\n",
       "   'classifier__max_depth': 15,\n",
       "   'classifier__n_estimators': 150},\n",
       "  {'classifier__colsample_bytree': 0.5,\n",
       "   'classifier__learning_rate': 0.1,\n",
       "   'classifier__max_depth': 15,\n",
       "   'classifier__n_estimators': 200},\n",
       "  {'classifier__colsample_bytree': 0.5,\n",
       "   'classifier__learning_rate': 0.1,\n",
       "   'classifier__max_depth': 20,\n",
       "   'classifier__n_estimators': 150},\n",
       "  {'classifier__colsample_bytree': 0.5,\n",
       "   'classifier__learning_rate': 0.1,\n",
       "   'classifier__max_depth': 20,\n",
       "   'classifier__n_estimators': 200},\n",
       "  {'classifier__colsample_bytree': 0.5,\n",
       "   'classifier__learning_rate': 0.1,\n",
       "   'classifier__max_depth': 10,\n",
       "   'classifier__n_estimators': 150},\n",
       "  {'classifier__colsample_bytree': 0.5,\n",
       "   'classifier__learning_rate': 0.1,\n",
       "   'classifier__max_depth': 10,\n",
       "   'classifier__n_estimators': 200},\n",
       "  {'classifier__colsample_bytree': 0.5,\n",
       "   'classifier__learning_rate': 0.1,\n",
       "   'classifier__max_depth': 15,\n",
       "   'classifier__n_estimators': 150},\n",
       "  {'classifier__colsample_bytree': 0.5,\n",
       "   'classifier__learning_rate': 0.1,\n",
       "   'classifier__max_depth': 15,\n",
       "   'classifier__n_estimators': 200},\n",
       "  {'classifier__colsample_bytree': 0.5,\n",
       "   'classifier__learning_rate': 0.1,\n",
       "   'classifier__max_depth': 20,\n",
       "   'classifier__n_estimators': 150},\n",
       "  {'classifier__colsample_bytree': 0.5,\n",
       "   'classifier__learning_rate': 0.1,\n",
       "   'classifier__max_depth': 20,\n",
       "   'classifier__n_estimators': 200},\n",
       "  {'classifier__colsample_bytree': 0.5,\n",
       "   'classifier__learning_rate': 0.3,\n",
       "   'classifier__max_depth': 10,\n",
       "   'classifier__n_estimators': 150},\n",
       "  {'classifier__colsample_bytree': 0.5,\n",
       "   'classifier__learning_rate': 0.3,\n",
       "   'classifier__max_depth': 10,\n",
       "   'classifier__n_estimators': 200},\n",
       "  {'classifier__colsample_bytree': 0.5,\n",
       "   'classifier__learning_rate': 0.3,\n",
       "   'classifier__max_depth': 15,\n",
       "   'classifier__n_estimators': 150},\n",
       "  {'classifier__colsample_bytree': 0.5,\n",
       "   'classifier__learning_rate': 0.3,\n",
       "   'classifier__max_depth': 15,\n",
       "   'classifier__n_estimators': 200},\n",
       "  {'classifier__colsample_bytree': 0.5,\n",
       "   'classifier__learning_rate': 0.3,\n",
       "   'classifier__max_depth': 20,\n",
       "   'classifier__n_estimators': 150},\n",
       "  {'classifier__colsample_bytree': 0.5,\n",
       "   'classifier__learning_rate': 0.3,\n",
       "   'classifier__max_depth': 20,\n",
       "   'classifier__n_estimators': 200},\n",
       "  {'classifier__colsample_bytree': 0.8,\n",
       "   'classifier__learning_rate': 0.1,\n",
       "   'classifier__max_depth': 10,\n",
       "   'classifier__n_estimators': 150},\n",
       "  {'classifier__colsample_bytree': 0.8,\n",
       "   'classifier__learning_rate': 0.1,\n",
       "   'classifier__max_depth': 10,\n",
       "   'classifier__n_estimators': 200},\n",
       "  {'classifier__colsample_bytree': 0.8,\n",
       "   'classifier__learning_rate': 0.1,\n",
       "   'classifier__max_depth': 15,\n",
       "   'classifier__n_estimators': 150},\n",
       "  {'classifier__colsample_bytree': 0.8,\n",
       "   'classifier__learning_rate': 0.1,\n",
       "   'classifier__max_depth': 15,\n",
       "   'classifier__n_estimators': 200},\n",
       "  {'classifier__colsample_bytree': 0.8,\n",
       "   'classifier__learning_rate': 0.1,\n",
       "   'classifier__max_depth': 20,\n",
       "   'classifier__n_estimators': 150},\n",
       "  {'classifier__colsample_bytree': 0.8,\n",
       "   'classifier__learning_rate': 0.1,\n",
       "   'classifier__max_depth': 20,\n",
       "   'classifier__n_estimators': 200},\n",
       "  {'classifier__colsample_bytree': 0.8,\n",
       "   'classifier__learning_rate': 0.1,\n",
       "   'classifier__max_depth': 10,\n",
       "   'classifier__n_estimators': 150},\n",
       "  {'classifier__colsample_bytree': 0.8,\n",
       "   'classifier__learning_rate': 0.1,\n",
       "   'classifier__max_depth': 10,\n",
       "   'classifier__n_estimators': 200},\n",
       "  {'classifier__colsample_bytree': 0.8,\n",
       "   'classifier__learning_rate': 0.1,\n",
       "   'classifier__max_depth': 15,\n",
       "   'classifier__n_estimators': 150},\n",
       "  {'classifier__colsample_bytree': 0.8,\n",
       "   'classifier__learning_rate': 0.1,\n",
       "   'classifier__max_depth': 15,\n",
       "   'classifier__n_estimators': 200},\n",
       "  {'classifier__colsample_bytree': 0.8,\n",
       "   'classifier__learning_rate': 0.1,\n",
       "   'classifier__max_depth': 20,\n",
       "   'classifier__n_estimators': 150},\n",
       "  {'classifier__colsample_bytree': 0.8,\n",
       "   'classifier__learning_rate': 0.1,\n",
       "   'classifier__max_depth': 20,\n",
       "   'classifier__n_estimators': 200},\n",
       "  {'classifier__colsample_bytree': 0.8,\n",
       "   'classifier__learning_rate': 0.3,\n",
       "   'classifier__max_depth': 10,\n",
       "   'classifier__n_estimators': 150},\n",
       "  {'classifier__colsample_bytree': 0.8,\n",
       "   'classifier__learning_rate': 0.3,\n",
       "   'classifier__max_depth': 10,\n",
       "   'classifier__n_estimators': 200},\n",
       "  {'classifier__colsample_bytree': 0.8,\n",
       "   'classifier__learning_rate': 0.3,\n",
       "   'classifier__max_depth': 15,\n",
       "   'classifier__n_estimators': 150},\n",
       "  {'classifier__colsample_bytree': 0.8,\n",
       "   'classifier__learning_rate': 0.3,\n",
       "   'classifier__max_depth': 15,\n",
       "   'classifier__n_estimators': 200},\n",
       "  {'classifier__colsample_bytree': 0.8,\n",
       "   'classifier__learning_rate': 0.3,\n",
       "   'classifier__max_depth': 20,\n",
       "   'classifier__n_estimators': 150},\n",
       "  {'classifier__colsample_bytree': 0.8,\n",
       "   'classifier__learning_rate': 0.3,\n",
       "   'classifier__max_depth': 20,\n",
       "   'classifier__n_estimators': 200}],\n",
       " 'split0_test_score': array([0.72198772, 0.72323484, 0.71939754, 0.71815042, 0.71440906,\n",
       "        0.71258634, 0.72198772, 0.72323484, 0.71939754, 0.71815042,\n",
       "        0.71440906, 0.71258634, 0.7210284 , 0.71791059, 0.71037989,\n",
       "        0.7093726 , 0.70783768, 0.70683039, 0.71767076, 0.71930161,\n",
       "        0.71618381, 0.71426516, 0.71114735, 0.71066769, 0.71767076,\n",
       "        0.71930161, 0.71618381, 0.71426516, 0.71114735, 0.71066769,\n",
       "        0.71464889, 0.71412126, 0.7092287 , 0.70759785, 0.70630276,\n",
       "        0.70548734]),\n",
       " 'split1_test_score': array([0.71910975, 0.72270721, 0.72179586, 0.7208845 , 0.7169033 ,\n",
       "        0.71570414, 0.71910975, 0.72270721, 0.72179586, 0.7208845 ,\n",
       "        0.7169033 , 0.71570414, 0.71738296, 0.71791059, 0.71177091,\n",
       "        0.71023599, 0.71057176, 0.7100921 , 0.71556025, 0.72136416,\n",
       "        0.71795856, 0.71671144, 0.71407329, 0.71373753, 0.71556025,\n",
       "        0.72136416, 0.71795856, 0.71671144, 0.71407329, 0.71373753,\n",
       "        0.717335  , 0.71556025, 0.70889294, 0.70812548, 0.7098043 ,\n",
       "        0.70855718]),\n",
       " 'split2_test_score': array([0.7240023 , 0.72539332, 0.72476976, 0.72333078, 0.71714313,\n",
       "        0.71565618, 0.7240023 , 0.72539332, 0.72476976, 0.72333078,\n",
       "        0.71714313, 0.71565618, 0.72289908, 0.72198772, 0.70975633,\n",
       "        0.70999616, 0.71061972, 0.70846124, 0.72452993, 0.72481773,\n",
       "        0.72193975, 0.71762279, 0.71450499, 0.71268227, 0.72452993,\n",
       "        0.72481773, 0.72193975, 0.71762279, 0.71450499, 0.71268227,\n",
       "        0.72270721, 0.72198772, 0.70870107, 0.70745395, 0.7055353 ,\n",
       "        0.7055353 ]),\n",
       " 'mean_test_score': array([0.72169992, 0.72377846, 0.72198772, 0.72078856, 0.71615183,\n",
       "        0.71464889, 0.72169992, 0.72377846, 0.72198772, 0.72078856,\n",
       "        0.71615183, 0.71464889, 0.72043681, 0.71926963, 0.71063571,\n",
       "        0.70986825, 0.70967639, 0.70846124, 0.71925365, 0.72182783,\n",
       "        0.71869404, 0.7161998 , 0.71324188, 0.7123625 , 0.71925365,\n",
       "        0.72182783, 0.71869404, 0.7161998 , 0.71324188, 0.7123625 ,\n",
       "        0.71823037, 0.71722307, 0.70894091, 0.70772576, 0.70721412,\n",
       "        0.70652661]),\n",
       " 'std_test_score': array([0.00200772, 0.00116202, 0.00219739, 0.00211596, 0.00123621,\n",
       "        0.00145857, 0.00200772, 0.00116202, 0.00219739, 0.00211596,\n",
       "        0.00123621, 0.00145857, 0.00229047, 0.00192198, 0.00084211,\n",
       "        0.0003639 , 0.00130031, 0.00133158, 0.0038291 , 0.00227569,\n",
       "        0.00240672, 0.00141769, 0.0014915 , 0.00127349, 0.0038291 ,\n",
       "        0.00227569, 0.00240672, 0.00141769, 0.0014915 , 0.00127349,\n",
       "        0.00335017, 0.00341995, 0.00021806, 0.00028868, 0.00185814,\n",
       "        0.00143596]),\n",
       " 'rank_test_score': array([ 7,  1,  3,  9, 21, 23,  7,  1,  3,  9, 21, 23, 11, 12, 29, 30, 31,\n",
       "        33, 13,  5, 15, 19, 25, 27, 13,  5, 15, 19, 25, 27, 17, 18, 32, 34,\n",
       "        35, 36])}"
      ]
     },
     "execution_count": 37,
     "metadata": {},
     "output_type": "execute_result"
    }
   ],
   "source": [
    "grid_search.cv_results_"
   ]
  },
  {
   "cell_type": "code",
   "execution_count": 34,
   "metadata": {},
   "outputs": [],
   "source": [
    "grid_searched = grid_search.predict(X_valid)\n",
    "\n",
    "score = f1_score(y_valid_labels, grid_searched, average='micro')"
   ]
  },
  {
   "cell_type": "code",
   "execution_count": 35,
   "metadata": {},
   "outputs": [
    {
     "name": "stdout",
     "output_type": "stream",
     "text": [
      "0.7258889741621897\n"
     ]
    }
   ],
   "source": [
    "print(score)"
   ]
  },
  {
   "cell_type": "code",
   "execution_count": null,
   "metadata": {},
   "outputs": [],
   "source": [
    "'''\n",
    "max_f1_score = 0.0\n",
    "\n",
    "pipelines = []\n",
    "params = []\n",
    "scores = []\n",
    "\n",
    "for g in list(ParameterGrid(param_grid)):\n",
    "    #add dicts\n",
    "    params.append(g)\n",
    "    \n",
    "    column_drop = ColumnDrop(drop_features)\n",
    "    encoder = Encoder()\n",
    "    classifier = xgb.XGBClassifier(n_jobs=-1, scale_pos_weight=1, objective = 'multi:softmax')\n",
    "    sca = StandardScaler()\n",
    "    \n",
    "    \n",
    "    pipe = Pipeline([(\"ColumnDrop\", column_drop), (\"Encoder\", encoder), (\"Scaler\", sca), (\"classifier\", classifier)])\n",
    "    \n",
    "    pipe.set_params(**g)\n",
    "    print(\"Fitting begins.\")\n",
    "    pipe.fit(X_train, y_train_labels)\n",
    "    print(\"Fitting completed.\")\n",
    "    #add pipelines\n",
    "    pipelines.append(pipe)\n",
    "    \n",
    "    y_pred = pipe.predict(X_valid)\n",
    "    score = f1_score(y_valid_labels, y_pred, average='micro')\n",
    "    print(score)\n",
    "    print(\"Finished.\")\n",
    "    #add scores\n",
    "    scores.append(score)\n",
    "'''"
   ]
  }
 ],
 "metadata": {
  "kernelspec": {
   "display_name": "Python 3",
   "language": "python",
   "name": "python3"
  },
  "language_info": {
   "codemirror_mode": {
    "name": "ipython",
    "version": 3
   },
   "file_extension": ".py",
   "mimetype": "text/x-python",
   "name": "python",
   "nbconvert_exporter": "python",
   "pygments_lexer": "ipython3",
   "version": "3.7.6"
  }
 },
 "nbformat": 4,
 "nbformat_minor": 4
}
