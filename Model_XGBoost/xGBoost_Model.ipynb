{
 "cells": [
  {
   "cell_type": "code",
   "execution_count": 37,
   "metadata": {},
   "outputs": [],
   "source": [
    "import numpy as np\n",
    "import pandas as pd\n",
    "import seaborn as sns\n",
    "import matplotlib.pyplot as plt"
   ]
  },
  {
   "cell_type": "code",
   "execution_count": 38,
   "metadata": {},
   "outputs": [],
   "source": [
    "from sklearn.model_selection import GridSearchCV, train_test_split\n",
    "from sklearn.metrics import f1_score\n",
    "from sklearn.pipeline import Pipeline\n",
    "from sklearn.base import BaseEstimator, TransformerMixin\n",
    "#from sklearn.decomposition import PCA\n",
    "from sklearn.preprocessing import StandardScaler\n",
    "#from sklearn.feature_selection import RFE\n",
    "#from sklearn.svm import SVC\n",
    "#from sklearn.multiclass import OneVsRestClassifier\n",
    "#from sklearn.ensemble import BaggingClassifier"
   ]
  },
  {
   "cell_type": "code",
   "execution_count": 39,
   "metadata": {},
   "outputs": [],
   "source": [
    "import xgboost as xgb\n",
    "from xgboost import plot_importance"
   ]
  },
  {
   "cell_type": "code",
   "execution_count": 40,
   "metadata": {},
   "outputs": [],
   "source": [
    "#train_data = pd.read_csv(\"C:/Users/Görkem/DrivenData/train_values.csv\", delimiter=\",\")\n",
    "#train_label = pd.read_csv(\"C:/Users/Görkem/DrivenData/train_labels.csv\", delimiter=\",\")\n",
    "train_data = pd.read_csv(\"C:/Users/Görkem/DrivenData/oversampled_X.csv\", delimiter=\",\")\n",
    "train_label = pd.read_csv(\"C:/Users/Görkem/DrivenData/oversampled_y.csv\", delimiter=\",\")"
   ]
  },
  {
   "cell_type": "code",
   "execution_count": 41,
   "metadata": {},
   "outputs": [
    {
     "data": {
      "text/plain": [
       "(444777, 69)"
      ]
     },
     "execution_count": 41,
     "metadata": {},
     "output_type": "execute_result"
    }
   ],
   "source": [
    "train_data.shape"
   ]
  },
  {
   "cell_type": "code",
   "execution_count": 6,
   "metadata": {},
   "outputs": [],
   "source": [
    "#train_data = train_data.sample(frac=.30)\n",
    "#indices = train_data.index\n",
    "#train_label = train_label.iloc[indices]"
   ]
  },
  {
   "cell_type": "code",
   "execution_count": 7,
   "metadata": {},
   "outputs": [
    {
     "data": {
      "text/plain": [
       "(133433, 69)"
      ]
     },
     "execution_count": 7,
     "metadata": {},
     "output_type": "execute_result"
    }
   ],
   "source": [
    "train_data.shape"
   ]
  },
  {
   "cell_type": "code",
   "execution_count": 42,
   "metadata": {},
   "outputs": [],
   "source": [
    "X_train, X_valid, y_train, y_valid = train_test_split(train_data, train_label, test_size=0.2, random_state=42)"
   ]
  },
  {
   "cell_type": "code",
   "execution_count": 43,
   "metadata": {},
   "outputs": [],
   "source": [
    "y_fulltrain_labels = train_label['damage_grade']\n",
    "y_train_labels = y_train['damage_grade']\n",
    "y_valid_labels = y_valid['damage_grade']"
   ]
  },
  {
   "cell_type": "code",
   "execution_count": 44,
   "metadata": {},
   "outputs": [],
   "source": [
    "class Encoder(BaseEstimator, TransformerMixin):\n",
    "    def __init__(self):\n",
    "        pass\n",
    "    def fit(self,X, y=None):\n",
    "        return self\n",
    "    def transform(self, X):\n",
    "        Xt = X.copy()\n",
    "        encoded = pd.get_dummies(Xt)\n",
    "        return encoded"
   ]
  },
  {
   "cell_type": "code",
   "execution_count": 45,
   "metadata": {},
   "outputs": [],
   "source": [
    "class ColumnDrop(BaseEstimator, TransformerMixin):\n",
    "    def __init__(self, items):\n",
    "        self.items = items\n",
    "    def fit(self, X, y=None):\n",
    "        return self\n",
    "    def transform(self, X):\n",
    "        Xt = X.copy()\n",
    "        dropped_data = Xt.drop(self.items, axis=1)\n",
    "        return dropped_data"
   ]
  },
  {
   "cell_type": "code",
   "execution_count": 46,
   "metadata": {},
   "outputs": [],
   "source": [
    "drop_features = ['building_id', 'has_secondary_use_gov_office', \n",
    "'has_secondary_use_use_police', 'has_secondary_use_institution','has_secondary_use_health_post',\n",
    "'has_secondary_use_school','has_secondary_use_industry','has_secondary_use_other','has_secondary_use_rental',\n",
    "'has_secondary_use_agriculture','has_secondary_use_hotel','position','plan_configuration', 'ground_floor_type'\n",
    "]"
   ]
  },
  {
   "cell_type": "code",
   "execution_count": 67,
   "metadata": {},
   "outputs": [],
   "source": [
    "drop_features=[\n",
    "'building_id',     \n",
    "'has_secondary_use_rental',\n",
    "'has_secondary_use_institution',\n",
    "'has_secondary_use_school',\n",
    "'has_secondary_use_industry',\n",
    "'has_secondary_use_gov_office',\n",
    "'has_secondary_use_use_police',\n",
    "'plan_configuration_c',\n",
    "'plan_configuration_f',\n",
    "'plan_configuration_m',\n",
    "'plan_configuration_n',\n",
    "'plan_configuration_o',\n",
    "'plan_configuration_s',\n",
    "'plan_configuration_a',\n",
    "'plan_configuration_d',\n",
    "'plan_configuration_q',\n",
    "'plan_configuration_u',]"
   ]
  },
  {
   "cell_type": "code",
   "execution_count": 68,
   "metadata": {},
   "outputs": [],
   "source": [
    "column_drop = ColumnDrop(drop_features)\n",
    "encoder = Encoder()\n",
    "sca = StandardScaler()\n",
    "#pca = PCA(n_components= 35)\n",
    "classifier = xgb.XGBClassifier(\n",
    "                                objective = 'multi:softmax',\n",
    "                                learning_rate = 0.3, \n",
    "                                n_estimators = 200, \n",
    "                                max_depth = 10, \n",
    "                                n_jobs=-1, \n",
    "                                scale_pos_weight=1,\n",
    "                                subsample = 0.8,\n",
    "                                min_child_weight=3)\n",
    "                                #colsample_bytree = 0.3)\n",
    "\n",
    "#selector = RFE(classifier, n_features_to_select=15, step=1)"
   ]
  },
  {
   "cell_type": "code",
   "execution_count": 69,
   "metadata": {},
   "outputs": [],
   "source": [
    "#(\"classifier\", classifier)\n",
    "#(\"Encoder\", encoder)\n",
    "#(\"rfe\", selector)\n",
    "pipe = Pipeline([(\"ColumnDrop\", column_drop), (\"Encoder\", encoder), (\"Scaler\", sca), (\"classifier\", classifier)])"
   ]
  },
  {
   "cell_type": "code",
   "execution_count": 70,
   "metadata": {},
   "outputs": [
    {
     "data": {
      "text/plain": [
       "Pipeline(steps=[('ColumnDrop',\n",
       "                 ColumnDrop(items=['building_id', 'has_secondary_use_rental',\n",
       "                                   'has_secondary_use_institution',\n",
       "                                   'has_secondary_use_school',\n",
       "                                   'has_secondary_use_industry',\n",
       "                                   'has_secondary_use_gov_office',\n",
       "                                   'has_secondary_use_use_police',\n",
       "                                   'plan_configuration_c',\n",
       "                                   'plan_configuration_f',\n",
       "                                   'plan_configuration_m',\n",
       "                                   'plan_configuration_n',\n",
       "                                   'plan_configuration_o',\n",
       "                                   'plan_configuration_s',\n",
       "                                   'plan_configuration_a',\n",
       "                                   'plan_configuration_d',\n",
       "                                   'plan_configuration_q',\n",
       "                                   'plan_configuration_u'])),\n",
       "                ('Encoder', Encoder()), ('Scaler', StandardScaler()),\n",
       "                ('classifier',\n",
       "                 XGBClassifier(learning_rate=0.3, max_depth=10,\n",
       "                               min_child_weight=3, n_estimators=200, n_jobs=-1,\n",
       "                               objective='multi:softprob', subsample=0.8))])"
      ]
     },
     "execution_count": 70,
     "metadata": {},
     "output_type": "execute_result"
    }
   ],
   "source": [
    "pipe.fit(X_train, y_train_labels)"
   ]
  },
  {
   "cell_type": "code",
   "execution_count": 71,
   "metadata": {},
   "outputs": [],
   "source": [
    "y_pred = pipe.predict(X_valid)\n",
    "score = f1_score(y_valid_labels, y_pred, average='micro')"
   ]
  },
  {
   "cell_type": "code",
   "execution_count": 72,
   "metadata": {},
   "outputs": [
    {
     "name": "stdout",
     "output_type": "stream",
     "text": [
      "0.8149984261882279\n"
     ]
    }
   ],
   "source": [
    "print(score)"
   ]
  },
  {
   "cell_type": "code",
   "execution_count": 53,
   "metadata": {},
   "outputs": [],
   "source": [
    "#from itertools import compress\n",
    "#rfe = pipe[3]\n",
    "#df1 = column_drop.transform(X_train)\n",
    "#features_list = df1.columns.to_list()\n",
    "#arr = rfe.support_\n",
    "#ans = list(compress(features_list, arr)) \n",
    "#print(ans)"
   ]
  },
  {
   "cell_type": "code",
   "execution_count": 54,
   "metadata": {},
   "outputs": [],
   "source": [
    "# 200 estimator --> 0.7426 (best)\n",
    "# 300 estimator --> 0.7417 (bad)\n",
    "# 250 estimator --> 0.7424 (not the best nor the worst)\n",
    "# *****************************************************\n",
    "\n",
    "# 0.8 subsample --> 0.7436 --> 0.7426 in website\n",
    "\n",
    "# 'count_families', 'has_secondary_use' dropped --> 0.7414\n",
    "\n",
    "# standard_scaler --> 0.7436 in website , 0.74273325530976 in notebook\n",
    "\n",
    "# position dropped --> 0.7421 in notebook\n",
    "\n",
    "# 0.3 test size --> 0.7404 with dropped position\n",
    "# 0.3 test size --> 0.7421 only building id dropped (bad)\n",
    "# 0.4 test size --> \n",
    "# min_child_weight = 5 --> 0.7450 in notebook , 0.7434 in website\n",
    "\n",
    "# grid_search with 3 cv , for min_child_weights [2,3,4] --> 3 is the best , score in notebook :0.7422, in website : 0.7444\n",
    "\n",
    "# gamma 0.1 --> score in notebook :0.7426, 0.7434 in website\n",
    "# many drop features --> 0.7409\n",
    "\n",
    "# drop_features = ['building_id', 'has_secondary_use_gov_office', 'has_secondary_use_use_police'] --> 0.7437 notebook\n",
    "\n",
    "# drop_features = ['building_id', 'has_secondary_use_gov_office', \n",
    "# 'has_secondary_use_use_police', 'has_secondary_use_institution'] --> 0.7442 notebook\n",
    "\n",
    "# drop_features = ['building_id', 'has_secondary_use_gov_office', \n",
    "#'has_secondary_use_use_police', 'has_secondary_use_institution','has_secondary_use_health_post',\n",
    "#'has_secondary_use_school','has_secondary_use_industry'] --> 0.7441 notebook ---> in website 0.7447\n",
    "\n",
    "## Best drops and  0.50 fraction --> 0.7347659247889485\n",
    "\n",
    "#drop_features = ['building_id', 'has_secondary_use_gov_office', 'has_secondary_use_use_police', 'has_secondary_use_institution',\n",
    "#'has_secondary_use_health_post','has_secondary_use_school','has_secondary_use_industry', \n",
    "#'position', 'plan_configuration', 'legal_ownership_status','has_secondary_use_hotel'\n",
    "#,'has_secondary_use_rental']  --> 0.7450 notebook ---> in website 0.7442\n",
    "\n",
    "#drop_features = ['building_id', 'has_secondary_use_gov_office', 'has_secondary_use_use_police', 'has_secondary_use_institution',\n",
    "#'has_secondary_use_health_post','has_secondary_use_school','has_secondary_use_industry', \n",
    "#'position', 'plan_configuration', 'legal_ownership_status','has_secondary_use_hotel'\n",
    "#,'has_secondary_use_rental']  --> full data ---> in website 0.7456\n"
   ]
  },
  {
   "cell_type": "code",
   "execution_count": 55,
   "metadata": {},
   "outputs": [
    {
     "data": {
      "text/plain": [
       "\"\\nobjective = 'multi:softmax',\\nlearning_rate = 0.3, \\nn_estimators = 200, \\nmax_depth = 10, \\nn_jobs=-1, \\nscale_pos_weight=1,\\nsubsample = 1,\\nmin_child_weight=3)\\ndrop_features = ['building_id']\\n\""
      ]
     },
     "execution_count": 55,
     "metadata": {},
     "output_type": "execute_result"
    }
   ],
   "source": [
    "#Best in website : Score --> 0.7447\n",
    "\n",
    "'''\n",
    "objective = 'multi:softmax',\n",
    "learning_rate = 0.3, \n",
    "n_estimators = 200, \n",
    "max_depth = 10, \n",
    "n_jobs=-1, \n",
    "scale_pos_weight=1,\n",
    "subsample = 1,\n",
    "min_child_weight=3)\n",
    "drop_features = ['building_id', 'has_secondary_use_gov_office', \n",
    "'has_secondary_use_use_police', 'has_secondary_use_institution','has_secondary_use_health_post',\n",
    "'has_secondary_use_school','has_secondary_use_industry'] \n",
    "'''\n",
    "\n",
    "#Best in notebook : Score --> 0.7454\n",
    "\n",
    "'''\n",
    "objective = 'multi:softmax',\n",
    "learning_rate = 0.3, \n",
    "n_estimators = 200, \n",
    "max_depth = 10, \n",
    "n_jobs=-1, \n",
    "scale_pos_weight=1,\n",
    "subsample = 1,\n",
    "min_child_weight=3)\n",
    "drop_features = ['building_id']\n",
    "'''"
   ]
  },
  {
   "cell_type": "code",
   "execution_count": 56,
   "metadata": {},
   "outputs": [],
   "source": [
    "test_data = pd.read_csv(\"C:/Users/Görkem/DrivenData/test_values.csv\", delimiter=\",\")\n",
    "test_data = pd.get_dummies(test_data)"
   ]
  },
  {
   "cell_type": "code",
   "execution_count": 57,
   "metadata": {},
   "outputs": [],
   "source": [
    "y_test_pred = pipe.predict(test_data)"
   ]
  },
  {
   "cell_type": "code",
   "execution_count": 58,
   "metadata": {},
   "outputs": [],
   "source": [
    "building_id = test_data['building_id']\n",
    "\n",
    "submission_df = pd.DataFrame({'building_id': building_id, 'damage_grade':y_test_pred}) "
   ]
  },
  {
   "cell_type": "code",
   "execution_count": 59,
   "metadata": {},
   "outputs": [],
   "source": [
    "submission_df.to_csv('nofraction_oversampled.csv', index=False)"
   ]
  },
  {
   "cell_type": "code",
   "execution_count": 60,
   "metadata": {
    "scrolled": true
   },
   "outputs": [
    {
     "name": "stdout",
     "output_type": "stream",
     "text": [
      "geo_level_1_id  -  0.011531604\n",
      "geo_level_2_id  -  0.0044163745\n",
      "geo_level_3_id  -  0.0031429972\n",
      "count_floors_pre_eq  -  0.009902438\n",
      "age  -  0.0042712633\n",
      "area_percentage  -  0.002296683\n",
      "height_percentage  -  0.0029776634\n",
      "has_superstructure_adobe_mud  -  0.008895887\n",
      "has_superstructure_mud_mortar_stone  -  0.024611551\n",
      "has_superstructure_stone_flag  -  0.013421787\n",
      "has_superstructure_cement_mortar_stone  -  0.0086629\n",
      "has_superstructure_mud_mortar_brick  -  0.009022952\n",
      "has_superstructure_cement_mortar_brick  -  0.009218795\n",
      "has_superstructure_timber  -  0.0058313785\n",
      "has_superstructure_bamboo  -  0.0041653183\n",
      "has_superstructure_rc_non_engineered  -  0.004854266\n",
      "has_superstructure_rc_engineered  -  0.0058027455\n",
      "has_superstructure_other  -  0.003956928\n",
      "count_families  -  0.0045001847\n",
      "has_secondary_use  -  0.00554491\n",
      "has_secondary_use_agriculture  -  0.0035856948\n",
      "has_secondary_use_hotel  -  0.0025104142\n",
      "has_secondary_use_rental  -  0.0025511598\n",
      "has_secondary_use_school  -  0.0016539991\n",
      "has_secondary_use_industry  -  0.001981521\n",
      "has_secondary_use_other  -  0.003204995\n",
      "land_surface_condition_n  -  0.0051071034\n",
      "land_surface_condition_o  -  0.028707596\n",
      "land_surface_condition_t  -  0.006740911\n",
      "foundation_type_h  -  0.035106458\n",
      "foundation_type_i  -  0.03214826\n",
      "foundation_type_r  -  0.2673939\n",
      "foundation_type_u  -  0.031640068\n",
      "foundation_type_w  -  0.03596464\n",
      "roof_type_n  -  0.008537406\n",
      "roof_type_q  -  0.014452464\n",
      "roof_type_x  -  0.015597541\n",
      "ground_floor_type_f  -  0.008700168\n",
      "ground_floor_type_m  -  0.014103186\n",
      "ground_floor_type_v  -  0.01583346\n",
      "ground_floor_type_x  -  0.0063072275\n",
      "ground_floor_type_z  -  0.010229148\n",
      "other_floor_type_j  -  0.06187207\n",
      "other_floor_type_q  -  0.02636089\n",
      "other_floor_type_s  -  0.082727365\n",
      "other_floor_type_x  -  0.033089675\n",
      "position_j  -  0.016576244\n",
      "position_o  -  0.027470779\n",
      "position_s  -  0.006507561\n",
      "position_t  -  0.009429799\n",
      "plan_configuration_a  -  0.0042486745\n",
      "plan_configuration_d  -  0.003728699\n",
      "plan_configuration_q  -  0.003865345\n",
      "plan_configuration_u  -  0.0046238247\n",
      "legal_ownership_status_a  -  0.0037203447\n",
      "legal_ownership_status_r  -  0.006376278\n",
      "legal_ownership_status_v  -  0.0044502895\n",
      "legal_ownership_status_w  -  0.005866296\n"
     ]
    }
   ],
   "source": [
    "tmp = column_drop.transform(X_train)\n",
    "\n",
    "tmp = encoder.transform(tmp)\n",
    "\n",
    "for name, importance in zip(tmp.columns, pipe[3].feature_importances_):\n",
    "    print(name, \" - \",importance)"
   ]
  },
  {
   "cell_type": "code",
   "execution_count": 61,
   "metadata": {},
   "outputs": [
    {
     "data": {
      "image/png": "[encoded data removed]",
      "text/plain": [
       "<Figure size 432x288 with 1 Axes>"
      ]
     },
     "metadata": {
      "needs_background": "light"
     },
     "output_type": "display_data"
    }
   ],
   "source": [
    "feat_importances = pd.Series(pipe[3].feature_importances_, index = tmp.columns)\n",
    "feat_importances.nlargest(10).plot(kind='barh')\n",
    "plt.show()"
   ]
  },
  {
   "cell_type": "code",
   "execution_count": 62,
   "metadata": {},
   "outputs": [
    {
     "data": {
      "text/plain": [
       "[Text(0, 0, 'geo_level_1_id'),\n",
       " Text(0, 0, 'geo_level_2_id'),\n",
       " Text(0, 0, 'geo_level_3_id'),\n",
       " Text(0, 0, 'count_floors_pre_eq'),\n",
       " Text(0, 0, 'age'),\n",
       " Text(0, 0, 'area_percentage'),\n",
       " Text(0, 0, 'height_percentage'),\n",
       " Text(0, 0, 'has_superstructure_adobe_mud'),\n",
       " Text(0, 0, 'has_superstructure_mud_mortar_stone'),\n",
       " Text(0, 0, 'has_superstructure_stone_flag'),\n",
       " Text(0, 0, 'has_superstructure_cement_mortar_stone'),\n",
       " Text(0, 0, 'has_superstructure_mud_mortar_brick'),\n",
       " Text(0, 0, 'has_superstructure_cement_mortar_brick'),\n",
       " Text(0, 0, 'has_superstructure_timber'),\n",
       " Text(0, 0, 'has_superstructure_bamboo'),\n",
       " Text(0, 0, 'has_superstructure_rc_non_engineered'),\n",
       " Text(0, 0, 'has_superstructure_rc_engineered'),\n",
       " Text(0, 0, 'has_superstructure_other'),\n",
       " Text(0, 0, 'count_families'),\n",
       " Text(0, 0, 'has_secondary_use'),\n",
       " Text(0, 0, 'has_secondary_use_agriculture'),\n",
       " Text(0, 0, 'has_secondary_use_hotel'),\n",
       " Text(0, 0, 'has_secondary_use_rental'),\n",
       " Text(0, 0, 'has_secondary_use_school'),\n",
       " Text(0, 0, 'has_secondary_use_industry'),\n",
       " Text(0, 0, 'has_secondary_use_other'),\n",
       " Text(0, 0, 'land_surface_condition_n'),\n",
       " Text(0, 0, 'land_surface_condition_o'),\n",
       " Text(0, 0, 'land_surface_condition_t'),\n",
       " Text(0, 0, 'foundation_type_h')]"
      ]
     },
     "execution_count": 62,
     "metadata": {},
     "output_type": "execute_result"
    },
    {
     "data": {
      "image/png": "[encoded data removed]",
      "text/plain": [
       "<Figure size 432x288 with 1 Axes>"
      ]
     },
     "metadata": {
      "needs_background": "light"
     },
     "output_type": "display_data"
    }
   ],
   "source": [
    "plot_importance(pipe[3], max_num_features=30).set_yticklabels(tmp.columns)"
   ]
  },
  {
   "cell_type": "code",
   "execution_count": 127,
   "metadata": {},
   "outputs": [],
   "source": [
    "model = pipe[3]"
   ]
  },
  {
   "cell_type": "code",
   "execution_count": 129,
   "metadata": {},
   "outputs": [
    {
     "data": {
      "text/plain": [
       "array([0.00780494, 0.00853913, 0.00870948, 0.01040658, 0.0104573 ,\n",
       "       0.01059105, 0.01104112, 0.01123249, 0.011318  , 0.0115955 ,\n",
       "       0.01190584, 0.01227569, 0.01245403, 0.01252087, 0.01264828,\n",
       "       0.01265488, 0.01327561, 0.01333957, 0.01338832, 0.01376056,\n",
       "       0.01414075, 0.01452884, 0.01495107, 0.01707238, 0.01749728,\n",
       "       0.01789645, 0.0186174 , 0.01892039, 0.01901534, 0.02018123,\n",
       "       0.0206739 , 0.02095972, 0.0292342 , 0.03354678, 0.03421518,\n",
       "       0.03623824, 0.04782698, 0.05003062, 0.32453406], dtype=float32)"
      ]
     },
     "execution_count": 129,
     "metadata": {},
     "output_type": "execute_result"
    }
   ],
   "source": [
    "from numpy import sort\n",
    "thresholds = sort(model.feature_importances_)\n",
    "thresholds"
   ]
  },
  {
   "cell_type": "code",
   "execution_count": null,
   "metadata": {},
   "outputs": [],
   "source": [
    "from numpy import sort\n",
    "from sklearn.feature_selection import SelectFromModel\n",
    "\n",
    "thresholds = sort(model.feature_importances_)\n",
    "for thresh in thresholds:\n",
    "    # select features using threshold\n",
    "    selection = SelectFromModel(model, threshold=thresh, prefit=True)\n",
    "    select_X_train = selection.transform(X_train)\n",
    "    # train model\n",
    "    selection_model = XGBClassifier()\n",
    "    selection_model.fit(select_X_train, y_train)\n",
    "    # eval model\n",
    "    select_X_test = selection.transform(X_test)\n",
    "    y_pred = selection_model.predict(select_X_test)\n",
    "    predictions = [round(value) for value in y_pred]\n",
    "    accuracy = accuracy_score(y_test, predictions)\n",
    "    print(\"Thresh=%.3f, n=%d, Accuracy: %.2f%%\" % (thresh, select_X_train.shape[1], accuracy*100.0))"
   ]
  },
  {
   "cell_type": "code",
   "execution_count": 138,
   "metadata": {},
   "outputs": [],
   "source": [
    "xgb.cv?"
   ]
  },
  {
   "cell_type": "code",
   "execution_count": 139,
   "metadata": {},
   "outputs": [],
   "source": [
    "xgb.train?"
   ]
  },
  {
   "cell_type": "code",
   "execution_count": null,
   "metadata": {},
   "outputs": [],
   "source": []
  }
 ],
 "metadata": {
  "kernelspec": {
   "display_name": "Python 3",
   "language": "python",
   "name": "python3"
  },
  "language_info": {
   "codemirror_mode": {
    "name": "ipython",
    "version": 3
   },
   "file_extension": ".py",
   "mimetype": "text/x-python",
   "name": "python",
   "nbconvert_exporter": "python",
   "pygments_lexer": "ipython3",
   "version": "3.7.6"
  }
 },
 "nbformat": 4,
 "nbformat_minor": 4
}
