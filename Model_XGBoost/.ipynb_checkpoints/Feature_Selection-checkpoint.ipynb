{
 "cells": [
  {
   "cell_type": "code",
   "execution_count": 114,
   "metadata": {},
   "outputs": [],
   "source": [
    "import numpy as np\n",
    "import pandas as pd\n",
    "import seaborn as sns\n",
    "import matplotlib.pyplot as plt"
   ]
  },
  {
   "cell_type": "code",
   "execution_count": 115,
   "metadata": {},
   "outputs": [],
   "source": [
    "from sklearn.metrics import f1_score, make_scorer"
   ]
  },
  {
   "cell_type": "code",
   "execution_count": 116,
   "metadata": {},
   "outputs": [],
   "source": [
    "from sklearn.model_selection import GridSearchCV, train_test_split\n",
    "from sklearn.metrics import f1_score\n",
    "from sklearn.pipeline import Pipeline\n",
    "from sklearn.base import BaseEstimator, TransformerMixin\n",
    "from sklearn.feature_selection import RFE\n",
    "from sklearn.preprocessing import StandardScaler"
   ]
  },
  {
   "cell_type": "code",
   "execution_count": 117,
   "metadata": {},
   "outputs": [],
   "source": [
    "import xgboost as xgb\n",
    "from xgboost import plot_importance"
   ]
  },
  {
   "cell_type": "code",
   "execution_count": 118,
   "metadata": {},
   "outputs": [],
   "source": [
    "train_data = pd.read_csv(\"train_values.csv\", delimiter=\",\")\n",
    "train_label = pd.read_csv(\"train_labels.csv\", delimiter=\",\")"
   ]
  },
  {
   "cell_type": "code",
   "execution_count": 119,
   "metadata": {},
   "outputs": [],
   "source": [
    "train_data = train_data.sample(frac=.30)\n",
    "indices = train_data.index\n",
    "train_label = train_label.iloc[indices]"
   ]
  },
  {
   "cell_type": "code",
   "execution_count": 120,
   "metadata": {},
   "outputs": [],
   "source": [
    "X_train, X_valid, y_train, y_valid = train_test_split(train_data, train_label, test_size=0.2, random_state=42)"
   ]
  },
  {
   "cell_type": "code",
   "execution_count": 121,
   "metadata": {},
   "outputs": [],
   "source": [
    "y_fulltrain_labels = train_label['damage_grade']\n",
    "y_train_labels = y_train['damage_grade']\n",
    "y_valid_labels = y_valid['damage_grade']"
   ]
  },
  {
   "cell_type": "code",
   "execution_count": 122,
   "metadata": {},
   "outputs": [],
   "source": [
    "class Encoder(BaseEstimator, TransformerMixin):\n",
    "    def __init__(self):\n",
    "        pass\n",
    "    def fit(self,X, y=None):\n",
    "        return self\n",
    "    def transform(self, X):\n",
    "        Xt = X.copy()\n",
    "        encoded = pd.get_dummies(Xt)\n",
    "        return encoded"
   ]
  },
  {
   "cell_type": "code",
   "execution_count": 123,
   "metadata": {},
   "outputs": [],
   "source": [
    "class ColumnDrop(BaseEstimator, TransformerMixin):\n",
    "    def __init__(self, items):\n",
    "        self.items = items\n",
    "    def fit(self, X, y=None):\n",
    "        return self\n",
    "    def transform(self, X):\n",
    "        Xt = X.copy()\n",
    "        dropped_data = Xt.drop(self.items, axis=1)\n",
    "        return dropped_data"
   ]
  },
  {
   "cell_type": "code",
   "execution_count": 124,
   "metadata": {},
   "outputs": [],
   "source": [
    "def f1_micro(y_train_true, y_train_pred):\n",
    "    score = f1_score(y_train_true, y_train_pred, average='micro')\n",
    "    return score"
   ]
  },
  {
   "cell_type": "code",
   "execution_count": 125,
   "metadata": {},
   "outputs": [],
   "source": [
    "my_scorer = make_scorer(f1_micro)"
   ]
  },
  {
   "cell_type": "code",
   "execution_count": 126,
   "metadata": {},
   "outputs": [],
   "source": [
    "drop_features = ['building_id']"
   ]
  },
  {
   "cell_type": "code",
   "execution_count": 128,
   "metadata": {},
   "outputs": [],
   "source": [
    "column_drop = ColumnDrop(drop_features)\n",
    "encoder = Encoder()\n",
    "classifier = xgb.XGBClassifier(\n",
    "                                objective = 'multi:softmax',\n",
    "                                learning_rate = 0.3, \n",
    "                                n_estimators = 200, \n",
    "                                max_depth = 10, \n",
    "                                n_jobs=-1, \n",
    "                                scale_pos_weight=1,\n",
    "                                subsample = 0.8,\n",
    "                                min_child_weight=3)\n",
    "\n",
    "rfe = RFE(estimator=classifier, verbose=1, step=2)"
   ]
  },
  {
   "cell_type": "code",
   "execution_count": 129,
   "metadata": {},
   "outputs": [],
   "source": [
    "param_grid = {\"rfe__n_features_to_select\": [50, 40, 30]}"
   ]
  },
  {
   "cell_type": "code",
   "execution_count": 130,
   "metadata": {},
   "outputs": [],
   "source": [
    "pipe = Pipeline([(\"ColumnDrop\", column_drop), (\"Encoder\", encoder),(\"rfe\", rfe), (\"classifier\", classifier)])"
   ]
  },
  {
   "cell_type": "code",
   "execution_count": 131,
   "metadata": {},
   "outputs": [],
   "source": [
    "grid_search = GridSearchCV(pipe, param_grid, n_jobs=-1, verbose=10, cv=3)"
   ]
  },
  {
   "cell_type": "code",
   "execution_count": 132,
   "metadata": {},
   "outputs": [
    {
     "name": "stdout",
     "output_type": "stream",
     "text": [
      "Fitting 3 folds for each of 3 candidates, totalling 9 fits\n"
     ]
    },
    {
     "name": "stderr",
     "output_type": "stream",
     "text": [
      "[Parallel(n_jobs=-1)]: Using backend LokyBackend with 8 concurrent workers.\n",
      "[Parallel(n_jobs=-1)]: Done   2 out of   9 | elapsed: 31.7min remaining: 111.1min\n",
      "[Parallel(n_jobs=-1)]: Done   3 out of   9 | elapsed: 32.0min remaining: 64.1min\n",
      "[Parallel(n_jobs=-1)]: Done   4 out of   9 | elapsed: 40.8min remaining: 50.9min\n",
      "[Parallel(n_jobs=-1)]: Done   5 out of   9 | elapsed: 40.8min remaining: 32.7min\n",
      "[Parallel(n_jobs=-1)]: Done   6 out of   9 | elapsed: 41.0min remaining: 20.5min\n",
      "[Parallel(n_jobs=-1)]: Done   7 out of   9 | elapsed: 45.7min remaining: 13.0min\n",
      "[Parallel(n_jobs=-1)]: Done   9 out of   9 | elapsed: 63.3min remaining:    0.0s\n",
      "[Parallel(n_jobs=-1)]: Done   9 out of   9 | elapsed: 63.3min finished\n"
     ]
    },
    {
     "name": "stdout",
     "output_type": "stream",
     "text": [
      "Fitting estimator with 68 features.\n",
      "Fitting estimator with 66 features.\n",
      "Fitting estimator with 64 features.\n",
      "Fitting estimator with 62 features.\n",
      "Fitting estimator with 60 features.\n",
      "Fitting estimator with 58 features.\n",
      "Fitting estimator with 56 features.\n",
      "Fitting estimator with 54 features.\n",
      "Fitting estimator with 52 features.\n",
      "Fitting estimator with 50 features.\n",
      "Fitting estimator with 48 features.\n",
      "Fitting estimator with 46 features.\n",
      "Fitting estimator with 44 features.\n",
      "Fitting estimator with 42 features.\n"
     ]
    },
    {
     "data": {
      "text/plain": [
       "GridSearchCV(cv=3, error_score=nan,\n",
       "             estimator=Pipeline(memory=None,\n",
       "                                steps=[('ColumnDrop',\n",
       "                                        ColumnDrop(items=['building_id'])),\n",
       "                                       ('Encoder', Encoder()),\n",
       "                                       ('rfe',\n",
       "                                        RFE(estimator=XGBClassifier(base_score=0.5,\n",
       "                                                                    booster='gbtree',\n",
       "                                                                    colsample_bylevel=1,\n",
       "                                                                    colsample_bynode=1,\n",
       "                                                                    colsample_bytree=1,\n",
       "                                                                    gamma=0,\n",
       "                                                                    learning_rate=0.3,\n",
       "                                                                    max_delta_step=0,\n",
       "                                                                    max_depth=10,\n",
       "                                                                    min_child_weight=3,\n",
       "                                                                    missing...\n",
       "                                                      n_estimators=200,\n",
       "                                                      n_jobs=-1, nthread=None,\n",
       "                                                      objective='multi:softmax',\n",
       "                                                      random_state=0,\n",
       "                                                      reg_alpha=0, reg_lambda=1,\n",
       "                                                      scale_pos_weight=1,\n",
       "                                                      seed=None, silent=None,\n",
       "                                                      subsample=0.8,\n",
       "                                                      verbosity=1))],\n",
       "                                verbose=False),\n",
       "             iid='deprecated', n_jobs=-1,\n",
       "             param_grid={'rfe__n_features_to_select': [50, 40, 30]},\n",
       "             pre_dispatch='2*n_jobs', refit=True, return_train_score=False,\n",
       "             scoring=None, verbose=10)"
      ]
     },
     "execution_count": 132,
     "metadata": {},
     "output_type": "execute_result"
    }
   ],
   "source": [
    "grid_search.fit(X_train, y_train_labels)"
   ]
  },
  {
   "cell_type": "code",
   "execution_count": 150,
   "metadata": {},
   "outputs": [
    {
     "data": {
      "text/plain": [
       "{'mean_fit_time': array([1898.33486811, 2445.73597829, 2459.94824847]),\n",
       " 'std_fit_time': array([ 12.83594612,   5.696236  , 393.84555228]),\n",
       " 'mean_score_time': array([4.80980992, 2.72139303, 1.84354051]),\n",
       " 'std_score_time': array([0.21035046, 0.54410446, 0.25228091]),\n",
       " 'param_rfe__n_features_to_select': masked_array(data=[50, 40, 30],\n",
       "              mask=[False, False, False],\n",
       "        fill_value='?',\n",
       "             dtype=object),\n",
       " 'params': [{'rfe__n_features_to_select': 50},\n",
       "  {'rfe__n_features_to_select': 40},\n",
       "  {'rfe__n_features_to_select': 30}],\n",
       " 'split0_test_score': array([0.70932464, 0.71105142, 0.70572717]),\n",
       " 'split1_test_score': array([0.70961243, 0.71220261, 0.70462394]),\n",
       " 'split2_test_score': array([0.71407329, 0.71287414, 0.70529547]),\n",
       " 'mean_test_score': array([0.71100345, 0.71204272, 0.70521553]),\n",
       " 'std_test_score': array([0.00217388, 0.00075266, 0.00045392]),\n",
       " 'rank_test_score': array([2, 1, 3])}"
      ]
     },
     "execution_count": 150,
     "metadata": {},
     "output_type": "execute_result"
    }
   ],
   "source": [
    "grid_search.cv_results_"
   ]
  },
  {
   "cell_type": "code",
   "execution_count": 138,
   "metadata": {},
   "outputs": [],
   "source": [
    "rıfkı = grid_search.best_estimator_[2]"
   ]
  },
  {
   "cell_type": "code",
   "execution_count": 146,
   "metadata": {},
   "outputs": [
    {
     "data": {
      "text/plain": [
       "40"
      ]
     },
     "execution_count": 146,
     "metadata": {},
     "output_type": "execute_result"
    }
   ],
   "source": [
    "mrr = rıfkı.support_\n",
    "np.count_nonzero(mrr)"
   ]
  },
  {
   "cell_type": "code",
   "execution_count": 147,
   "metadata": {},
   "outputs": [],
   "source": [
    "from itertools import compress\n",
    "df1 = column_drop.transform(X_train)\n",
    "df1 = encoder.transform(df1)\n",
    "features_list = df1.columns.to_list()\n",
    "arr = rıfkı.support_\n",
    "arr = np.logical_not(arr)"
   ]
  },
  {
   "cell_type": "code",
   "execution_count": 148,
   "metadata": {},
   "outputs": [
    {
     "data": {
      "text/plain": [
       "['count_floors_pre_eq',\n",
       " 'age',\n",
       " 'area_percentage',\n",
       " 'height_percentage',\n",
       " 'has_secondary_use_rental',\n",
       " 'has_secondary_use_institution',\n",
       " 'has_secondary_use_school',\n",
       " 'has_secondary_use_industry',\n",
       " 'has_secondary_use_gov_office',\n",
       " 'has_secondary_use_use_police',\n",
       " 'land_surface_condition_n',\n",
       " 'land_surface_condition_t',\n",
       " 'foundation_type_u',\n",
       " 'roof_type_n',\n",
       " 'roof_type_q',\n",
       " 'ground_floor_type_f',\n",
       " 'ground_floor_type_m',\n",
       " 'other_floor_type_s',\n",
       " 'other_floor_type_x',\n",
       " 'position_o',\n",
       " 'position_s',\n",
       " 'position_t',\n",
       " 'plan_configuration_c',\n",
       " 'plan_configuration_f',\n",
       " 'plan_configuration_m',\n",
       " 'plan_configuration_n',\n",
       " 'plan_configuration_o',\n",
       " 'plan_configuration_s']"
      ]
     },
     "execution_count": 148,
     "metadata": {},
     "output_type": "execute_result"
    }
   ],
   "source": [
    "ans = list(compress(features_list, arr)) \n",
    "ans"
   ]
  },
  {
   "cell_type": "code",
   "execution_count": 149,
   "metadata": {},
   "outputs": [
    {
     "name": "stdout",
     "output_type": "stream",
     "text": [
      "28\n"
     ]
    }
   ],
   "source": [
    "print(len(ans))"
   ]
  },
  {
   "cell_type": "code",
   "execution_count": 52,
   "metadata": {},
   "outputs": [
    {
     "data": {
      "text/plain": [
       "0.7138334612432847"
      ]
     },
     "execution_count": 52,
     "metadata": {},
     "output_type": "execute_result"
    }
   ],
   "source": [
    "grid_search.best_score_"
   ]
  }
 ],
 "metadata": {
  "kernelspec": {
   "display_name": "Python 3",
   "language": "python",
   "name": "python3"
  },
  "language_info": {
   "codemirror_mode": {
    "name": "ipython",
    "version": 3
   },
   "file_extension": ".py",
   "mimetype": "text/x-python",
   "name": "python",
   "nbconvert_exporter": "python",
   "pygments_lexer": "ipython3",
   "version": "3.7.6"
  }
 },
 "nbformat": 4,
 "nbformat_minor": 4
}
